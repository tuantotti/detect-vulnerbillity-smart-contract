{
  "cells": [
    {
      "cell_type": "markdown",
      "source": [
        "# Connect to gg drive"
      ],
      "metadata": {
        "id": "6oJjws7Bzg71"
      }
    },
    {
      "cell_type": "code",
      "execution_count": null,
      "metadata": {
        "colab": {
          "base_uri": "https://localhost:8080/"
        },
        "id": "t4H4AAj9kVj0",
        "outputId": "a50b531f-60cb-4084-f222-3e922218dbf0"
      },
      "outputs": [
        {
          "output_type": "stream",
          "name": "stdout",
          "text": [
            "Mounted at /content/drive\n"
          ]
        }
      ],
      "source": [
        "from google.colab import drive\n",
        "drive.mount(\"/content/drive\")"
      ]
    },
    {
      "cell_type": "code",
      "execution_count": null,
      "metadata": {
        "colab": {
          "base_uri": "https://localhost:8080/"
        },
        "id": "rrJYvveFky8a",
        "outputId": "ae9fb9be-f033-4b31-aaea-f158447900cd"
      },
      "outputs": [
        {
          "output_type": "stream",
          "name": "stdout",
          "text": [
            "/content/drive/MyDrive/lab\n"
          ]
        }
      ],
      "source": [
        "cd /content/drive/MyDrive/lab/"
      ]
    },
    {
      "cell_type": "code",
      "execution_count": null,
      "metadata": {
        "id": "I_qKuCi1r7FH"
      },
      "outputs": [],
      "source": [
        "!pip install transformers"
      ]
    },
    {
      "cell_type": "code",
      "execution_count": null,
      "metadata": {
        "colab": {
          "base_uri": "https://localhost:8080/"
        },
        "id": "B8m8NM_UFa2U",
        "outputId": "2d2eadc5-6824-45eb-9c78-78ea08226a1e"
      },
      "outputs": [
        {
          "output_type": "stream",
          "name": "stdout",
          "text": [
            "Sat Oct 14 02:05:27 2023       \n",
            "+-----------------------------------------------------------------------------+\n",
            "| NVIDIA-SMI 525.105.17   Driver Version: 525.105.17   CUDA Version: 12.0     |\n",
            "|-------------------------------+----------------------+----------------------+\n",
            "| GPU  Name        Persistence-M| Bus-Id        Disp.A | Volatile Uncorr. ECC |\n",
            "| Fan  Temp  Perf  Pwr:Usage/Cap|         Memory-Usage | GPU-Util  Compute M. |\n",
            "|                               |                      |               MIG M. |\n",
            "|===============================+======================+======================|\n",
            "|   0  Tesla T4            Off  | 00000000:00:04.0 Off |                    0 |\n",
            "| N/A   35C    P8     9W /  70W |      0MiB / 15360MiB |      0%      Default |\n",
            "|                               |                      |                  N/A |\n",
            "+-------------------------------+----------------------+----------------------+\n",
            "                                                                               \n",
            "+-----------------------------------------------------------------------------+\n",
            "| Processes:                                                                  |\n",
            "|  GPU   GI   CI        PID   Type   Process name                  GPU Memory |\n",
            "|        ID   ID                                                   Usage      |\n",
            "|=============================================================================|\n",
            "|  No running processes found                                                 |\n",
            "+-----------------------------------------------------------------------------+\n"
          ]
        }
      ],
      "source": [
        "!nvidia-smi"
      ]
    },
    {
      "cell_type": "markdown",
      "source": [
        "# Import package"
      ],
      "metadata": {
        "id": "yFLRYmcW241l"
      }
    },
    {
      "cell_type": "code",
      "execution_count": null,
      "metadata": {
        "id": "5McNPOlukgPY"
      },
      "outputs": [],
      "source": [
        "import pandas as pd\n",
        "import os\n",
        "import collections\n",
        "import numpy as np\n",
        "import zipfile\n",
        "import time\n",
        "import matplotlib.pyplot as plt\n",
        "\n",
        "import torch\n",
        "import torch.nn as nn\n",
        "from tqdm import tqdm\n",
        "from torch.utils.data import Dataset, DataLoader\n",
        "\n",
        "from sklearn.metrics import *\n",
        "from sklearn.model_selection import train_test_split"
      ]
    },
    {
      "cell_type": "code",
      "execution_count": null,
      "metadata": {
        "colab": {
          "base_uri": "https://localhost:8080/"
        },
        "id": "rW69pATPbH90",
        "outputId": "dfad8d38-a48a-43c5-919b-599c8a82310f"
      },
      "outputs": [
        {
          "output_type": "execute_result",
          "data": {
            "text/plain": [
              "device(type='cuda', index=0)"
            ]
          },
          "metadata": {},
          "execution_count": 6
        }
      ],
      "source": [
        "if torch.cuda.is_available():\n",
        " dev = \"cuda:0\"\n",
        "else:\n",
        " dev = \"cpu\"\n",
        "device = torch.device(dev)\n",
        "device"
      ]
    },
    {
      "cell_type": "code",
      "source": [
        "os.listdir(os.getcwd()+'/Wisdomnet/Untitled Folder')"
      ],
      "metadata": {
        "colab": {
          "base_uri": "https://localhost:8080/"
        },
        "id": "XZDIXYVv5vGY",
        "outputId": "f40207c5-f91d-441e-ab8b-b0522eccf674"
      },
      "execution_count": null,
      "outputs": [
        {
          "output_type": "execute_result",
          "data": {
            "text/plain": [
              "['y_test.csv',\n",
              " 'y_val.csv',\n",
              " 'misclassified-data.csv',\n",
              " 'y_train.csv',\n",
              " 'X_val.csv',\n",
              " 'X_train.csv',\n",
              " 'X_test.csv',\n",
              " 'misclassified-outdate.csv']"
            ]
          },
          "metadata": {},
          "execution_count": 9
        }
      ]
    },
    {
      "cell_type": "markdown",
      "metadata": {
        "id": "mnZoQPY9QoOK"
      },
      "source": [
        "# Read data"
      ]
    },
    {
      "cell_type": "code",
      "execution_count": null,
      "metadata": {
        "id": "k8czyBwRPOeM"
      },
      "outputs": [],
      "source": [
        "data_folder = os.getcwd()+'/Wisdomnet/Untitled Folder/'\n",
        "\n",
        "# def extract_file():\n",
        "#   file_zip = os.getcwd() + '/Data_Cleansing.zip'\n",
        "#   with zipfile.ZipFile(file_zip, 'r') as zip_ref:\n",
        "#     zip_ref.extractall(path=data_folder)\n",
        "\n",
        "# extract_file()"
      ]
    },
    {
      "cell_type": "code",
      "execution_count": null,
      "metadata": {
        "id": "MZ2yM_XdkfYh"
      },
      "outputs": [],
      "source": [
        "# data = pd.read_csv(data_folder + '/Data_Cleansing_a.csv')"
      ]
    },
    {
      "cell_type": "code",
      "execution_count": null,
      "metadata": {
        "id": "TTf7NziUaYdp"
      },
      "outputs": [],
      "source": [
        "labels = ['Timestamp dependence', 'Outdated Solidity version', 'Frozen Ether', 'Delegatecall Injection']"
      ]
    },
    {
      "cell_type": "code",
      "execution_count": null,
      "metadata": {
        "id": "vCmKpiWAaclt"
      },
      "outputs": [],
      "source": [
        "X_train = pd.read_csv(data_folder+'X_train.csv').to_numpy()\n",
        "X_test = pd.read_csv(data_folder+'X_test.csv').to_numpy()\n",
        "X_val = pd.read_csv(data_folder+'X_val.csv').to_numpy()\n",
        "\n",
        "y_train = pd.read_csv(data_folder+'y_train.csv').to_numpy()\n",
        "y_test = pd.read_csv(data_folder+'y_test.csv').to_numpy()\n",
        "y_val = pd.read_csv(data_folder+'y_val.csv').to_numpy()"
      ]
    },
    {
      "cell_type": "markdown",
      "source": [
        "# Define Constant"
      ],
      "metadata": {
        "id": "vfV6rpFO2-1_"
      }
    },
    {
      "cell_type": "code",
      "execution_count": null,
      "metadata": {
        "id": "VfR86Y5pXXts"
      },
      "outputs": [],
      "source": [
        "# Defining some key variables that will be used later on in the training\n",
        "max_length = 512\n",
        "TRAIN_BATCH_SIZE = 32\n",
        "VALID_BATCH_SIZE = 32\n",
        "EPOCHS = 5\n",
        "LEARNING_RATE = 1e-04\n",
        "num_class = 4"
      ]
    },
    {
      "cell_type": "markdown",
      "metadata": {
        "id": "HSNtjsohQtQG"
      },
      "source": [
        "# Define Model"
      ]
    },
    {
      "cell_type": "markdown",
      "source": [
        "## Load pretrained model form huggingface"
      ],
      "metadata": {
        "id": "oMACVGN63Kni"
      }
    },
    {
      "cell_type": "code",
      "execution_count": null,
      "metadata": {
        "id": "ykA5O_MHk8gr",
        "colab": {
          "base_uri": "https://localhost:8080/",
          "height": 113,
          "referenced_widgets": [
            "76799e9f9b6e471197eb0e81c4bd2d02",
            "2206db6df4624db4b55d444733644143",
            "e09733030c8646cab590b6b7af1a19f1",
            "448b5be115324efeb95058c796870f83",
            "3fd92b37c7a04badb6f5f069c09c1e20",
            "a7baeabd9bc144ccb6eb93fa2fb97370",
            "cadb0a1291e546f78211a05a087bb813",
            "6c8ebcc4b9a4404a96e622596663fb83",
            "cdf2c55fd63c47c8a7b0c1aa907de48b",
            "1e50db2a600e424ba4227792eb06c471",
            "dd6a06279cb946e2aa8525928b9bd1ed",
            "f6c4609e68024ca0802c90478f6b2c0e",
            "6842ce71bd27410f9f98a3db8368c107",
            "94187ecb226747d685a4b8eb50d460aa",
            "55a58bdbb71c41ad8258d2f35a3a9283",
            "f44f3185a070407e996a11dcbd653b27",
            "b65ad612c0784ff898bd84999af29264",
            "979458e428134a3ebcd09451177c576f",
            "ecd2ebee310f4587aec52032a0d399a0",
            "65fca934e89241bc97fe81349f05c1f9",
            "cdcab9fb0cea46699a34a88cd6a4851d",
            "55affaf2402948d19a15983ff46b07e5",
            "ef95341467dd4327832a603f89cb0dbc",
            "ebd2f8c1eeed4242b544f4ae64adfbcb",
            "b22dfdd4cd7b410a9f841ec748355923",
            "7db0a25bd6d84de7ac973d3c163fc7e0",
            "f725b05769fa4cc0b7c2dec4eea2e426",
            "2aa8ec2df89041b0b87db773bc5c749e",
            "33e4e179ce5244cfa504fdda91ff9c1c",
            "fabd95f2cde541868ca637b556855269",
            "721644594a244925b9efd784466b4c7d",
            "dda3c8a9878a459188c8d2a3e4a98430",
            "535e11063c314b0a9745516c8fcbdf86"
          ]
        },
        "outputId": "ec88036b-bc32-45fb-9034-84ba9b8f18ad"
      },
      "outputs": [
        {
          "output_type": "display_data",
          "data": {
            "text/plain": [
              "Downloading (…)solve/main/vocab.txt:   0%|          | 0.00/378k [00:00<?, ?B/s]"
            ],
            "application/vnd.jupyter.widget-view+json": {
              "version_major": 2,
              "version_minor": 0,
              "model_id": "76799e9f9b6e471197eb0e81c4bd2d02"
            }
          },
          "metadata": {}
        },
        {
          "output_type": "display_data",
          "data": {
            "text/plain": [
              "Downloading (…)lve/main/config.json:   0%|          | 0.00/467 [00:00<?, ?B/s]"
            ],
            "application/vnd.jupyter.widget-view+json": {
              "version_major": 2,
              "version_minor": 0,
              "model_id": "f6c4609e68024ca0802c90478f6b2c0e"
            }
          },
          "metadata": {}
        },
        {
          "output_type": "display_data",
          "data": {
            "text/plain": [
              "Downloading model.safetensors:   0%|          | 0.00/336M [00:00<?, ?B/s]"
            ],
            "application/vnd.jupyter.widget-view+json": {
              "version_major": 2,
              "version_minor": 0,
              "model_id": "ef95341467dd4327832a603f89cb0dbc"
            }
          },
          "metadata": {}
        }
      ],
      "source": [
        "from transformers import BertModel, BertTokenizerFast\n",
        "\n",
        "secBertTokenizer = BertTokenizerFast.from_pretrained(\"jackaduma/SecBERT\", do_lower_case=True)\n",
        "secBertModel = BertModel.from_pretrained(\"jackaduma/SecBERT\", num_labels = num_class)"
      ]
    },
    {
      "cell_type": "code",
      "execution_count": null,
      "metadata": {
        "id": "j6YPZaLbBQuq"
      },
      "outputs": [],
      "source": [
        "secBertModel"
      ]
    },
    {
      "cell_type": "code",
      "execution_count": null,
      "metadata": {
        "id": "DKTdG15cqIN6"
      },
      "outputs": [],
      "source": [
        "def freeze_k_layer(secBert, k=1):\n",
        "  for param in secBert.encoder.layer[0:k].parameters():\n",
        "    param.requires_grad = False"
      ]
    },
    {
      "cell_type": "code",
      "execution_count": null,
      "metadata": {
        "id": "1ni4OTv0ShcU"
      },
      "outputs": [],
      "source": [
        "freeze_k_layer(secBertModel, k=6)"
      ]
    },
    {
      "cell_type": "markdown",
      "source": [
        "## Create Custom Model"
      ],
      "metadata": {
        "id": "2sxhjudr3ELo"
      }
    },
    {
      "cell_type": "code",
      "execution_count": null,
      "metadata": {
        "id": "1i-ZKPoA_vhG"
      },
      "outputs": [],
      "source": [
        "class Branch(nn.Module):\n",
        "  def __init__(self, input_size, hidden1_size, hidden2_size, dropout, num_outputs):\n",
        "    super(Branch, self).__init__()\n",
        "\n",
        "    self.dense1 = nn.Linear(input_size, hidden1_size)\n",
        "    self.dropout = nn.Dropout(p=dropout)\n",
        "    self.dense2 = nn.Linear(hidden1_size, hidden2_size)\n",
        "    self.dense3 = nn.Linear(hidden2_size, num_outputs)\n",
        "\n",
        "  def forward(self, x):\n",
        "    out_dense1 = self.dense1(x)\n",
        "    out_dropout = self.dropout(out_dense1)\n",
        "    out_dense2 = self.dense2(out_dropout)\n",
        "    out_dense3 = self.dense3(out_dense2)\n",
        "\n",
        "    return out_dense3"
      ]
    },
    {
      "cell_type": "markdown",
      "source": [
        "### SecBert-Escort"
      ],
      "metadata": {
        "id": "5eQWjpjN3QfQ"
      }
    },
    {
      "cell_type": "code",
      "execution_count": null,
      "metadata": {
        "id": "Y0-Oz9-KWgG6"
      },
      "outputs": [],
      "source": [
        "class BaseModel(nn.Module):\n",
        "    def __init__(self, original_model, num_classes):\n",
        "        super(BaseModel, self).__init__()\n",
        "        self.num_classes = num_classes\n",
        "        self.original_model = original_model\n",
        "        self.branches = nn.ModuleList([Branch(768, 128, 64, 0.1, 2) for _ in range(num_classes)])\n",
        "        self.activation = nn.Softmax(dim=1)\n",
        "\n",
        "    def forward(self, input_ids, attention_mask=None, token_type_ids=None, labels=None):\n",
        "        out_bert = self.original_model(input_ids, attention_mask=attention_mask, token_type_ids=token_type_ids)\n",
        "        pooler_out = out_bert.pooler_output\n",
        "        output_branches = [branch(pooler_out) for branch in self.branches]\n",
        "        # outputs = [self.activation(out_branch) for out_branch in output_branches]\n",
        "\n",
        "        # apply softmax function for each branch\n",
        "        out_soft = [self.activation(out) for out in output_branches]\n",
        "        out_soft_max_indices = [torch.argmax(out, dim=1) for out in out_soft]\n",
        "        out_soft_max_indices = torch.stack(out_soft_max_indices, dim=1)\n",
        "\n",
        "        return out_soft, out_soft_max_indices\n",
        "\n",
        "secBertClassifierMultilabel = BaseModel(original_model=secBertModel, num_classes=num_class)"
      ]
    },
    {
      "cell_type": "markdown",
      "source": [
        "### WisdomNet Model"
      ],
      "metadata": {
        "id": "-qT8CPy93Ud8"
      }
    },
    {
      "cell_type": "code",
      "source": [
        "class WisdomNet(nn.Module):\n",
        "  def __init__(self, trained_model):\n",
        "    super(WisdomNet, self).__init__()\n",
        "    self.numclasses = trained_model.num_classes\n",
        "    self.bert = trained_model.original_model\n",
        "\n",
        "    num_outputs = 3 # add a reject label --> num_outputs = old_outputs + 1\n",
        "    self.new_branches = nn.ModuleList([Branch(768, 128, 64, 0.1, num_outputs) for _ in range(self.numclasses)])\n",
        "\n",
        "    for i in range(self.numclasses):\n",
        "      old_branch = trained_model.branches[i]\n",
        "      new_branch = self.new_branches[i]\n",
        "      self.copy_weight_branch(old_branch, new_branch)\n",
        "      new_branch.dense3.weight.data[:2].copy_(old_branch.dense3.weight.data.clone())\n",
        "      new_branch.dense3.bias.data[:2].copy_(old_branch.dense3.bias.data.clone())\n",
        "\n",
        "    self.softmax = nn.Softmax(dim=1)\n",
        "\n",
        "  def copy_weight_branch(self, old_branch, new_branch, name_except='dense3'):\n",
        "    for name, param in old_branch.named_parameters():\n",
        "      if name_except not in name:\n",
        "        name_layer = name.split('.')[0]\n",
        "        name_attr_layer = name.split('.')[1]\n",
        "        new_model_param = getattr(new_branch, name_layer)\n",
        "        if name_attr_layer == 'weight':\n",
        "          new_model_param.weight.data.copy_(param.data.clone())\n",
        "        if name_attr_layer == 'bias':\n",
        "          new_model_param.bias.data.copy_(param.data.clone())\n",
        "\n",
        "  def forward(self, input_ids, attention_mask=None, token_type_ids=None, labels=None):\n",
        "    out_bert = self.bert(input_ids, attention_mask=attention_mask, token_type_ids=token_type_ids)\n",
        "    pooler_out = out_bert.pooler_output\n",
        "    output_branches = [branch(pooler_out) for branch in self.new_branches]\n",
        "\n",
        "    # apply softmax function for each branch\n",
        "    out_soft = [self.softmax(out) for out in output_branches]\n",
        "    out_soft_max_indices = [torch.argmax(out, dim=1) for out in out_soft]\n",
        "    out_soft_max_indices = torch.stack(out_soft_max_indices, dim=1)\n",
        "\n",
        "    return out_soft, out_soft_max_indices"
      ],
      "metadata": {
        "id": "miD23gwSxAQI"
      },
      "execution_count": null,
      "outputs": []
    },
    {
      "cell_type": "code",
      "source": [
        "# print(torch.equal(test_branch.dense1.weight, old_branch.dense1.weight))\n",
        "# print(torch.equal(test_branch.dense1.bias, old_branch.dense1.bias))\n",
        "\n",
        "# print(torch.equal(test_branch.dense2.weight, old_branch.dense2.weight))\n",
        "# print(torch.equal(test_branch.dense2.bias, old_branch.dense2.bias))\n",
        "\n",
        "# print(torch.equal(test_branch.dense3.weight, old_branch.dense3.weight))\n",
        "# print(torch.equal(test_branch.dense3.bias, old_branch.dense3.bias))"
      ],
      "metadata": {
        "id": "OVk3XKgTCzuX"
      },
      "execution_count": null,
      "outputs": []
    },
    {
      "cell_type": "markdown",
      "metadata": {
        "id": "K_HaLTY1Q3Yv"
      },
      "source": [
        "# Preprocess data"
      ]
    },
    {
      "cell_type": "markdown",
      "source": [
        "## Define Dataset"
      ],
      "metadata": {
        "id": "YT4g7rCA3c6w"
      }
    },
    {
      "cell_type": "code",
      "execution_count": null,
      "metadata": {
        "id": "jBpwSctGVSHD"
      },
      "outputs": [],
      "source": [
        "class OpcodeData(Dataset):\n",
        "    def __init__(self, X, y, tokenizer, max_len):\n",
        "        self.tokenizer = tokenizer\n",
        "        self.X = X\n",
        "        self.targets = y\n",
        "        self.max_len = max_len\n",
        "\n",
        "    def __len__(self):\n",
        "        return len(self.X)\n",
        "\n",
        "    def __getitem__(self, index):\n",
        "        text = str(self.X[index])\n",
        "\n",
        "        inputs = self.tokenizer(\n",
        "            text,\n",
        "            None,\n",
        "            truncation=True,\n",
        "            padding='max_length',\n",
        "            add_special_tokens=True,\n",
        "            max_length=self.max_len,\n",
        "            return_token_type_ids=True\n",
        "        )\n",
        "        ids = inputs['input_ids']\n",
        "        mask = inputs['attention_mask']\n",
        "        token_type_ids = inputs[\"token_type_ids\"]\n",
        "\n",
        "\n",
        "        return {\n",
        "            'index': index,\n",
        "            'ids': torch.tensor(ids, dtype=torch.long),\n",
        "            'mask': torch.tensor(mask, dtype=torch.long),\n",
        "            'token_type_ids': torch.tensor(token_type_ids, dtype=torch.long),\n",
        "            'targets': torch.tensor(self.targets[index], dtype=torch.long)\n",
        "        }"
      ]
    },
    {
      "cell_type": "code",
      "execution_count": null,
      "metadata": {
        "id": "RD2VWqXpWwe0"
      },
      "outputs": [],
      "source": [
        "# X_train, X_test, y_train, y_test = train_test_split(X, y, test_size=0.2, random_state=42)\n",
        "# X_train, X_val, y_train, y_val = train_test_split(X_train, y_train, test_size=0.1, random_state=42)\n",
        "\n",
        "training_set = OpcodeData(X_train, y_train, secBertTokenizer, max_length)\n",
        "validating_set = OpcodeData(X_val, y_val, secBertTokenizer, max_length)\n",
        "testing_set = OpcodeData(X_test, y_test, secBertTokenizer, max_length)"
      ]
    },
    {
      "cell_type": "code",
      "execution_count": null,
      "metadata": {
        "id": "3NVSRQxxXORN"
      },
      "outputs": [],
      "source": [
        "train_params = {\n",
        "  'batch_size': TRAIN_BATCH_SIZE,\n",
        "  'shuffle': True,\n",
        "  'num_workers': 0\n",
        "}\n",
        "\n",
        "val_params = {\n",
        "  'batch_size': VALID_BATCH_SIZE,\n",
        "  'shuffle': True,\n",
        "  'num_workers': 0\n",
        "}\n",
        "\n",
        "test_params = {\n",
        "  'batch_size': VALID_BATCH_SIZE,\n",
        "  'shuffle': False,\n",
        "  'num_workers': 0\n",
        "}\n",
        "\n",
        "# Create generator for Dataset with BATCH_SIZE\n",
        "training_loader = DataLoader(training_set, batch_size=TRAIN_BATCH_SIZE)\n",
        "validating_loader = DataLoader(validating_set, batch_size=VALID_BATCH_SIZE)\n",
        "testing_loader = DataLoader(testing_set, batch_size=VALID_BATCH_SIZE)"
      ]
    },
    {
      "cell_type": "code",
      "execution_count": null,
      "metadata": {
        "id": "Z14N8gpFlf-G"
      },
      "outputs": [],
      "source": [
        "# inputs = next(iter(training_loader))\n",
        "# ids = inputs['ids']\n",
        "# index = inputs['index']\n",
        "# print(ids.shape)\n",
        "# ids = inputs['ids'].to(device)\n",
        "# mask = inputs['mask'].to(device)\n",
        "# token_type_ids = inputs['token_type_ids'].to(device)\n",
        "# targets = inputs['targets'].to(device)\n",
        "# secBertClassifierMultilabel.to(device)"
      ]
    },
    {
      "cell_type": "markdown",
      "source": [
        "# Define Metrics and Save the result"
      ],
      "metadata": {
        "id": "bgTO9o003har"
      }
    },
    {
      "cell_type": "code",
      "execution_count": null,
      "metadata": {
        "id": "PbicX7vmZKJA"
      },
      "outputs": [],
      "source": [
        "def calculate_score(y_true, preds, score_type=''):\n",
        "  acc_score = 0.0\n",
        "  if score_type=='multioutput':\n",
        "    num_acc = 0\n",
        "    for i in range(len(y_true)):\n",
        "      if np.array_equal(y_true[i], preds[i]):\n",
        "        num_acc+=1\n",
        "    acc_score = num_acc / len(y_true)\n",
        "  else:\n",
        "    acc_score = accuracy_score(y_true, preds)\n",
        "\n",
        "  return acc_score"
      ]
    },
    {
      "cell_type": "code",
      "execution_count": null,
      "metadata": {
        "id": "-XqDi7tjc9st"
      },
      "outputs": [],
      "source": [
        "def save_classification(y_test, y_pred, out_dir, labels):\n",
        "  if isinstance(y_pred, np.ndarray) == False:\n",
        "    y_pred = y_pred.toarray()\n",
        "\n",
        "  def accuracy(y_true, y_pred):\n",
        "    temp = 0\n",
        "    for i in range(y_true.shape[0]):\n",
        "        numerator = sum(np.logical_and(y_true[i], y_pred[i]))\n",
        "        denominator = sum(np.logical_or(y_true[i], y_pred[i]))\n",
        "        if denominator != 0:\n",
        "          temp += numerator / denominator\n",
        "    return temp / y_true.shape[0]\n",
        "\n",
        "  out = classification_report(y_test,y_pred, output_dict=True, target_names=labels)\n",
        "  total_support = out['samples avg']['support']\n",
        "\n",
        "  mr = accuracy_score(y_test, y_pred)\n",
        "  acc = accuracy(y_test,y_pred)\n",
        "  hm = hamming_loss(y_test, y_pred)\n",
        "\n",
        "  out['Exact Match Ratio'] = {'precision': mr, 'recall': mr, 'f1-score': mr, 'support': total_support}\n",
        "  out['Hamming Loss'] = {'precision': hm, 'recall': hm, 'f1-score': hm, 'support': total_support}\n",
        "  out['Accuracy'] = {'precision': acc, 'recall': acc, 'f1-score': acc, 'support': total_support}\n",
        "  out_df = pd.DataFrame(out).transpose()\n",
        "  print(out_df)\n",
        "\n",
        "  out_df.to_csv(out_dir)\n",
        "\n",
        "  return out_df"
      ]
    },
    {
      "cell_type": "code",
      "source": [
        "def wisdomnet_cfm(y_true, y_pred, reject_label=2):\n",
        "\n",
        "  if y_true.shape[0] != y_pred.shape[0] or y_true.shape[1] != y_pred.shape[1]:\n",
        "    return Exception(\"Shape is not equally\")\n",
        "\n",
        "  num_samples = y_true.shape[0]\n",
        "  num_label = y_true.shape[1]\n",
        "  cfm = np.zeros(shape=(num_label, 2, 3), dtype=int)\n",
        "\n",
        "  for i in range(num_label):\n",
        "    num_reject = 0\n",
        "    TN, FN, TP, FP = 0, 0, 0, 0\n",
        "    for j in range(num_samples):\n",
        "      if y_pred[j][i] == reject_label:\n",
        "        num_reject+=1\n",
        "      elif y_true[j][i] == 1 and y_pred[j][i] == 1:\n",
        "        TP += 1  # True Positive\n",
        "      elif y_true[j][i] == 0 and y_pred[j][i] == 1:\n",
        "        FP += 1  # False Positive\n",
        "      elif y_true[j][i] == 0 and y_pred[j][i] == 0:\n",
        "        TN += 1  # True Negative\n",
        "      elif y_true[j][i] == 1 and y_pred[j][i] == 0:\n",
        "        FN += 1  # False Negative\n",
        "\n",
        "    cfm[i, 0, 0] = TN\n",
        "    cfm[i, 1, 0] = FN\n",
        "    cfm[i, 1, 1] = TP\n",
        "    cfm[i, 0, 1] = FP\n",
        "    cfm[i, 0, 2] = num_reject\n",
        "    cfm[i, 1, 2] = num_reject\n",
        "\n",
        "  return cfm\n",
        "\n",
        "def calculate_accuracy(y_true, y_pred):\n",
        "  if y_true.shape[0] != y_pred.shape[0] or y_true.shape[1] != y_pred.shape[1]:\n",
        "    return Exception(\"Shape is not equally\")\n",
        "\n",
        "  num_samples = y_true.shape[0]\n",
        "  num_labels = y_true.shape[1]\n",
        "  acc_score = 0.\n",
        "\n",
        "  for i in range(num_samples):\n",
        "    num_acc = 0\n",
        "    total = 0\n",
        "    for j in range(num_labels):\n",
        "      if y_true[i, j] == y_pred[i, j] and y_true[i, j] != 0:\n",
        "        num_acc+=1\n",
        "\n",
        "      if y_true[i, j] != 0 or y_pred[i, j] != 0:\n",
        "        total += 1\n",
        "    acc_score += num_acc / total\n",
        "  return acc_score / num_samples\n",
        "\n",
        "def my_classification_report(y_true, y_pred, labels):\n",
        "  cfm = wisdomnet_cfm(y_true, y_pred)\n",
        "  num_labels = len(labels)\n",
        "  sum_all_TP, sum_all_FP, sum_all_FN = 0, 0, 0\n",
        "  sum_pre, sum_re, sum_f1 = 0., 0., 0.\n",
        "\n",
        "  report = {}\n",
        "\n",
        "  for i in range(num_labels):\n",
        "    TN = cfm[i, 0, 0]\n",
        "    FN = cfm[i, 1, 0]\n",
        "    TP = cfm[i, 1, 1]\n",
        "    FP = cfm[i, 0, 1]\n",
        "    reject_labels = cfm[i, 0, 2]\n",
        "\n",
        "    label = labels[i]\n",
        "    precision = TP / (TP + FP)\n",
        "    recall = TP / (TP + FN)\n",
        "    F1 = (2 * precision * recall) / (precision + recall)\n",
        "\n",
        "    sum_pre += precision\n",
        "    sum_re += recall\n",
        "    sum_f1 += F1\n",
        "\n",
        "    sum_all_TP += TP\n",
        "    sum_all_FP += FP\n",
        "    sum_all_FN += FN\n",
        "\n",
        "    report[label] = {\n",
        "        'Precision': precision,\n",
        "        'Recall': recall,\n",
        "        'F1': F1,\n",
        "        'Reject Label': reject_labels\n",
        "    }\n",
        "\n",
        "  micro_p = sum_all_TP / (sum_all_TP + sum_all_FP)\n",
        "  micro_r = sum_all_TP / (sum_all_TP + sum_all_FN)\n",
        "  micro_f = (2 * micro_p * micro_r) / (micro_r + micro_p)\n",
        "\n",
        "  report['micro avg'] = {\n",
        "    'Precision': micro_p,\n",
        "    'Recall': micro_r,\n",
        "    'F1': micro_f,\n",
        "    'Reject Label': 0\n",
        "  }\n",
        "\n",
        "  report['macro avg'] = {\n",
        "    'Precision': sum_pre / num_labels,\n",
        "    'Recall': sum_re / num_labels,\n",
        "    'F1': sum_f1 / num_labels,\n",
        "    'Reject Label': 0\n",
        "  }\n",
        "\n",
        "  acc = calculate_accuracy(y_true, y_pred)\n",
        "  report['accuracy'] = {\n",
        "    'Precision': acc,\n",
        "    'Recall': acc,\n",
        "    'F1': acc,\n",
        "    'Reject Label': 0\n",
        "  }\n",
        "\n",
        "  df = pd.DataFrame(report).T\n",
        "  df.columns = ['Precision', 'Recall', 'F1', 'Reject Label']\n",
        "\n",
        "  return df"
      ],
      "metadata": {
        "id": "C1WlpXkuY53K"
      },
      "execution_count": null,
      "outputs": []
    },
    {
      "cell_type": "code",
      "execution_count": null,
      "metadata": {
        "id": "TW4-QSOZr7G1"
      },
      "outputs": [],
      "source": [
        "def get_misclassified_data(labels, preds, indices):\n",
        "  misclassify_data = {}\n",
        "  for i in range(len(labels)):\n",
        "    is_append = False\n",
        "    reject_label = np.array(labels[i])\n",
        "    for j in range(len(labels[i])):\n",
        "      if labels[i, j] != preds[i, j]:\n",
        "        reject_label[j] = 2 # reject label\n",
        "        is_append = True\n",
        "\n",
        "    if is_append:\n",
        "      x_train_index = indices[i]\n",
        "      misclassify_data[x_train_index] = np.array(reject_label)\n",
        "  return misclassify_data"
      ]
    },
    {
      "cell_type": "code",
      "source": [
        "# labels = np.array([[1, 1, 1, 1], [1, 1, 1, 0], [1, 1, 0, 1], [1, 0, 1, 1]])\n",
        "# preds = np.array([[1, 1, 0, 1], [1, 1, 1, 0], [1, 1, 0, 0], [1, 0, 1, 1]])\n",
        "\n",
        "# print(get_misclassified_data(labels, preds))\n",
        "# print(labels)\n",
        "# print(preds)"
      ],
      "metadata": {
        "id": "RRzRJ_dDV-_h"
      },
      "execution_count": null,
      "outputs": []
    },
    {
      "cell_type": "code",
      "source": [
        "# misclassify_data = {}\n",
        "\n",
        "# misclassify_data[0] = np.array([1, 0, 1, 1])\n",
        "# misclassify_data[0] = np.array([1, 1, 1, 1])\n",
        "# misclassify_data"
      ],
      "metadata": {
        "id": "sZKtGdsYUofH"
      },
      "execution_count": null,
      "outputs": []
    },
    {
      "cell_type": "markdown",
      "source": [
        "# Define Training Fuction"
      ],
      "metadata": {
        "id": "uBoGxQWn3pVN"
      }
    },
    {
      "cell_type": "markdown",
      "source": [
        "## Train Steps"
      ],
      "metadata": {
        "id": "YRHK4_Pg3vFY"
      }
    },
    {
      "cell_type": "code",
      "source": [
        "def train_steps(training_loader, model, loss_f, optimizer, score_type='', is_find_miss=True):\n",
        "    print('Training...')\n",
        "    training_loss = 0\n",
        "    n_correct = 0\n",
        "    nb_tr_steps = 0\n",
        "    nb_tr_examples = 0\n",
        "    train_acc = 0.\n",
        "    train_f1 = 0.\n",
        "    misclassify_train_data = {}\n",
        "\n",
        "    model.train()\n",
        "\n",
        "    for step, batch in enumerate(training_loader):\n",
        "        # push the batch to gpu\n",
        "        indices = batch['index'].numpy()\n",
        "        ids = batch['ids'].to(device)\n",
        "        mask = batch['mask'].to(device)\n",
        "        token_type_ids = batch['token_type_ids'].to(device)\n",
        "        targets = batch['targets'].to(device)\n",
        "\n",
        "        preds, max_indices = model(ids, attention_mask=mask, token_type_ids=token_type_ids)\n",
        "\n",
        "        # calculate the loss for each branch\n",
        "        losses = [loss_f(preds[i], targets[:, i]) for i in range(targets.shape[1])]\n",
        "        average_loss = sum(losses) / targets.shape[1]\n",
        "        training_loss += average_loss.item()\n",
        "\n",
        "        label_ids = targets.to('cpu').numpy()\n",
        "        max_indices = max_indices.detach().cpu().numpy()\n",
        "        acc_score = calculate_score(label_ids, max_indices, score_type)\n",
        "        train_acc += acc_score\n",
        "\n",
        "        if is_find_miss:\n",
        "          misclassify_data = get_misclassified_data(label_ids, max_indices, indices)\n",
        "          misclassify_train_data.update(misclassify_data)\n",
        "\n",
        "        nb_tr_steps += 1\n",
        "\n",
        "        optimizer.zero_grad()\n",
        "        average_loss.backward()\n",
        "        torch.nn.utils.clip_grad_norm_(model.parameters(), 1.0)\n",
        "        # When using GPU\n",
        "        optimizer.step()\n",
        "\n",
        "    epoch_loss = training_loss / nb_tr_steps\n",
        "    epoch_acc = train_acc / nb_tr_steps\n",
        "\n",
        "    return epoch_loss, epoch_acc, misclassify_train_data"
      ],
      "metadata": {
        "id": "S_jUmUvw3u2k"
      },
      "execution_count": null,
      "outputs": []
    },
    {
      "cell_type": "markdown",
      "source": [
        "## Evaluation Steps"
      ],
      "metadata": {
        "id": "eLtUoRo14fxx"
      }
    },
    {
      "cell_type": "code",
      "source": [
        "def evaluate_steps(validating_loader, model, loss_f, score_type='', **kwargs):\n",
        "    print(\"\\nEvaluating...\")\n",
        "\n",
        "    # deactivate dropout layers\n",
        "    model.eval()\n",
        "\n",
        "    total_loss, total_accuracy = 0, 0\n",
        "\n",
        "    # empty list to save the model predictions\n",
        "    total_preds = []\n",
        "    total_labels = []\n",
        "    # iterate over batches\n",
        "    for step, batch in enumerate(validating_loader):\n",
        "        # push the batch to gpu\n",
        "        ids = batch['ids'].to(device)\n",
        "        mask = batch['mask'].to(device)\n",
        "        token_type_ids = batch['token_type_ids'].to(device)\n",
        "        targets = batch['targets'].to(device)\n",
        "\n",
        "        # deactivate autograd\n",
        "        with torch.no_grad():\n",
        "            # model predictions\n",
        "            preds, max_indices = model(ids, attention_mask=mask, token_type_ids=token_type_ids)\n",
        "\n",
        "            # compute the validation loss between actual and predicted values\n",
        "            losses = [loss_f(preds[i], targets[:, i]) for i in range(targets.shape[1])]\n",
        "            average_loss = sum(losses) / targets.shape[1]\n",
        "            total_loss += average_loss.item()\n",
        "\n",
        "            max_indices = max_indices.detach().cpu().numpy()\n",
        "            total_preds += list(max_indices)\n",
        "            total_labels += targets.tolist()\n",
        "    # compute the validation loss of the epoch\n",
        "    avg_loss = total_loss / len(validating_loader)\n",
        "    acc_score = calculate_score(total_labels, total_preds, score_type)\n",
        "\n",
        "    return avg_loss, acc_score"
      ],
      "metadata": {
        "id": "YexYuL-A4i7R"
      },
      "execution_count": null,
      "outputs": []
    },
    {
      "cell_type": "markdown",
      "source": [
        "## Train Loop"
      ],
      "metadata": {
        "id": "xtVoQSvh4ntk"
      }
    },
    {
      "cell_type": "code",
      "source": [
        "def train(epochs, model, optimizer, criterion, dataloader, score_type='', save_dir='secbert-escort.pt', is_find_miss=True):\n",
        "  data_train_loader, data_val_loader = dataloader\n",
        "  # set initial loss to infinite\n",
        "  best_valid_loss = float('inf')\n",
        "  train_losses = []\n",
        "  valid_losses = []\n",
        "  train_accuracies = []\n",
        "  valid_accuracies = []\n",
        "  misclassify_train_data = {}\n",
        "\n",
        "  for epoch in range(epochs):\n",
        "    print('Epoch {}/{} '.format(epoch + 1, epochs))\n",
        "    start_time = time.time()\n",
        "    train_loss, train_acc, misclassify_train_steps_data = train_steps(data_train_loader, model, criterion, optimizer, score_type=score_type, is_find_miss=is_find_miss)\n",
        "    valid_loss, valid_acc = evaluate_steps(data_val_loader, model, criterion, score_type=score_type)\n",
        "\n",
        "    # save the best model\n",
        "    if valid_loss < best_valid_loss:\n",
        "        best_valid_loss = valid_loss\n",
        "        torch.save(model.state_dict(), save_dir)\n",
        "    # append training and validation loss\n",
        "    train_losses.append(train_loss)\n",
        "    valid_losses.append(valid_loss)\n",
        "    train_accuracies.append(train_acc)\n",
        "    valid_accuracies.append(valid_acc)\n",
        "    misclassify_train_data.update(misclassify_train_steps_data)\n",
        "\n",
        "    elapsed_time = time.time() - start_time\n",
        "\n",
        "    print('\\t loss={:.4f} \\t accuracy={:.4f} \\t val_loss={:.4f}  \\t val_acc={:.4f}  \\t time={:.2f}s'.format(train_loss, train_acc, valid_loss, valid_acc, elapsed_time))\n",
        "\n",
        "  return train_accuracies, valid_accuracies, train_losses, valid_losses, misclassify_train_data"
      ],
      "metadata": {
        "id": "bD7BRKq34rn_"
      },
      "execution_count": null,
      "outputs": []
    },
    {
      "cell_type": "markdown",
      "source": [
        "## Predict"
      ],
      "metadata": {
        "id": "_D3iiVRE4upf"
      }
    },
    {
      "cell_type": "code",
      "source": [
        "def predict(testing_loader, model):\n",
        "    print(\"\\nPredicting...\")\n",
        "    # deactivate dropout layers\n",
        "    model.eval()\n",
        "\n",
        "    # empty list to save the model predictions\n",
        "    total_preds = []\n",
        "    total_labels = []\n",
        "    # iterate over batches\n",
        "    for step, batch in enumerate(testing_loader):\n",
        "        # push the batch to gpu\n",
        "        ids = batch['ids'].to(device)\n",
        "        mask = batch['mask'].to(device)\n",
        "        token_type_ids = batch['token_type_ids'].to(device)\n",
        "        targets = batch['targets'].to(device)\n",
        "\n",
        "        # deactivate autograd\n",
        "        with torch.no_grad():\n",
        "            # model predictions\n",
        "            preds, max_indices = model(ids, attention_mask=mask, token_type_ids=token_type_ids)\n",
        "\n",
        "            max_indices = max_indices.detach().cpu().numpy()\n",
        "            total_preds += list(max_indices)\n",
        "            total_labels += targets.tolist()\n",
        "\n",
        "    return total_labels, total_preds"
      ],
      "metadata": {
        "id": "ZnRDGvsa4xtE"
      },
      "execution_count": null,
      "outputs": []
    },
    {
      "cell_type": "markdown",
      "source": [
        "## Draw the graph"
      ],
      "metadata": {
        "id": "0zS2ROZ14zNv"
      }
    },
    {
      "cell_type": "code",
      "execution_count": null,
      "metadata": {
        "id": "mt0cnLwyo1lz"
      },
      "outputs": [],
      "source": [
        "def plot_graph(epochs, train, valid, tittle):\n",
        "    fig = plt.figure(figsize=(12,12))\n",
        "    plt.title(tittle)\n",
        "    plt.plot(list(np.arange(epochs) + 1) , train, label='train')\n",
        "    plt.plot(list(np.arange(epochs) + 1), valid, label='validation')\n",
        "    plt.xlabel('num_epochs', fontsize=12)\n",
        "    plt.ylabel('loss', fontsize=12)\n",
        "    plt.legend(loc='best')"
      ]
    },
    {
      "cell_type": "markdown",
      "source": [
        "# Run model"
      ],
      "metadata": {
        "id": "pv9i798w45Bz"
      }
    },
    {
      "cell_type": "markdown",
      "source": [
        "## Train SecBert-Escort model"
      ],
      "metadata": {
        "id": "-e8wAfpB5CYr"
      }
    },
    {
      "cell_type": "code",
      "execution_count": null,
      "metadata": {
        "id": "pBA6dtJApX_a"
      },
      "outputs": [],
      "source": [
        "secBertClassifierMultilabel.to(device)\n",
        "\n",
        "# Creating the loss function and optimizer\n",
        "criterion = nn.CrossEntropyLoss()\n",
        "optimizer = torch.optim.Adam(params = secBertClassifierMultilabel.parameters(), lr=LEARNING_RATE)\n",
        "\n",
        "train_accuracies, valid_accuracies, train_losses, valid_losses, misclassify_train_data = train(EPOCHS, secBertClassifierMultilabel, optimizer, criterion, (training_loader, validating_loader))\n",
        "df = pd.DataFrame.from_dict(misclassify_train_data, orient='index', columns=labels)\n",
        "df.index.name = 'X_train_index'\n",
        "df.to_csv(data_folder+'misclassified-data.csv')\n",
        "\n",
        "\"\"\"\n",
        "Plot the result of training process\n",
        "\"\"\"\n",
        "plot_graph(EPOCHS, train_losses, valid_losses, \"Train/Validation Loss\")\n",
        "plot_graph(EPOCHS, train_accuracies, valid_accuracies, \"Train/Validation Accuracy\")\n",
        "\n",
        "\"\"\"\n",
        "Evaluate model on test set and save the result\n",
        "\"\"\"\n",
        "total_labels, total_preds = predict(testing_loader, secBertClassifierMultilabel)\n",
        "df_labels = pd.DataFrame(total_labels, columns=labels)\n",
        "df_preds = pd.DataFrame(total_preds, columns=labels)\n",
        "\n",
        "df_labels.to_csv(data_folder+'labels-test-secbert-escort.csv')\n",
        "df_preds.to_csv(data_folder+'preds-secbert-escort.csv')\n",
        "\n",
        "save_classification(y_test=np.array(total_labels), y_pred=np.array(total_preds), labels=labels, out_dir='escort-secbert.csv')"
      ]
    },
    {
      "cell_type": "markdown",
      "source": [
        "## Train wisdomnet Model"
      ],
      "metadata": {
        "id": "U0CPPSe05ILv"
      }
    },
    {
      "cell_type": "code",
      "source": [
        "def train_wisdomnet(frac_mis=0.01):\n",
        "  secBertClassifierMultilabel.load_state_dict(torch.load('/kaggle/working/secbert-escort.pt'))\n",
        "\n",
        "  wisdomnet = WisdomNet(secBertClassifierMultilabel)\n",
        "  wisdomnet.to(device)\n",
        "\n",
        "  # data = pd.read_csv(data_folder + '/Data_Cleansing_a.csv')\n",
        "  misclassified_df = pd.read_csv('/kaggle/working/misclassified-data.csv')\n",
        "  misclassified_df.sample(frac=frac_mis, replace=True, randome_state=2023)\n",
        "  X_m_index = misclassified_df['X_train_index'].to_list()\n",
        "  X_train = pd.read_csv('/kaggle/input/opcode/X_train.csv')\n",
        "\n",
        "  X_m, y_m = X_train.iloc[X_m_index].to_numpy(), misclassified_df.iloc[:, -4:].to_numpy()\n",
        "  X_m_train, X_m_test, y_m_train, y_m_test = train_test_split(X_m, y_m, test_size=0.2, random_state=2023)\n",
        "  X_m_train, X_m_val, y_m_train, y_m_val = train_test_split(X_m_train, y_m_train, test_size=0.2, random_state=2023)\n",
        "\n",
        "  training_m_set = OpcodeData(X_m_train, y_m_train, secBertTokenizer, max_length)\n",
        "  validating_m_set = OpcodeData(X_m_val, y_m_val, secBertTokenizer, max_length)\n",
        "  testing_m_set = OpcodeData(X_m_test, y_m_test, secBertTokenizer, max_length)\n",
        "\n",
        "  # Create generator for Dataset with BATCH_SIZE\n",
        "  training_m_loader = DataLoader(training_m_set, batch_size=TRAIN_BATCH_SIZE)\n",
        "  validating_m_loader = DataLoader(validating_m_set, batch_size=VALID_BATCH_SIZE)\n",
        "  testing_m_loader = DataLoader(testing_m_set, batch_size=VALID_BATCH_SIZE)\n",
        "\n",
        "  criterion = nn.CrossEntropyLoss()\n",
        "  optimizer = torch.optim.Adam(params = wisdomnet.parameters(), lr=LEARNING_RATE)\n",
        "\n",
        "  train_m_accuracies, valid_m_accuracies, train_m_losses, valid_m_losses, _ =\n",
        "  train(EPOCHS, wisdomnet, optimizer, criterion, (training_loader, validating_loader), score_type='multioutput', save_dir='wisdomnet-escort'+(frac_mis*100)+'-percent.pt', is_find_miss=False)\n",
        "\n",
        "  \"\"\"\n",
        "  Plot the result of training process\n",
        "  \"\"\"\n",
        "  plot_graph(EPOCHS, train_m_losses, valid_m_losses, \"Train/Validation Loss\")\n",
        "  plot_graph(EPOCHS, train_m_accuracies, valid_m_accuracies, \"Train/Validation Accuracy\")\n",
        "\n",
        "  \"\"\"\n",
        "  Evaluate model on test set and save the result\n",
        "  \"\"\"\n",
        "  labels = ['Timestamp dependence', 'Outdated Solidity version', 'Frozen Ether', 'Delegatecall Injection']\n",
        "  start = time.time()\n",
        "  total_labels, total_preds = predict(testing_loader, wisdomnet)\n",
        "  end = time.time()\n",
        "\n",
        "  execution_time = (end - start) / len(total_labels)\n",
        "  print('Execution time: ', execution_time)\n",
        "  df_labels = pd.DataFrame(total_labels, columns=labels)\n",
        "  df_preds = pd.DataFrame(total_preds, columns=labels)\n",
        "\n",
        "  mycr = my_classification_report(df_labels.to_numpy(), df_preds.to_numpy(), labels)\n",
        "  mycr\n",
        "  print(mycr)\n",
        "\n",
        "  df_labels.to_csv('/kaggle/working/labels-test-wisdomnet'+(frac_mis*100)+'-percent.csv')\n",
        "  df_preds.to_csv('/kaggle/working/preds-wisdomnet'+(frac_mis*100)+'-percent.csv')"
      ],
      "metadata": {
        "id": "dCxXx_s93iFt"
      },
      "execution_count": null,
      "outputs": []
    },
    {
      "cell_type": "code",
      "source": [
        "secBertClassifierMultilabel.load_state_dict(torch.load(os.getcwd()+'/trained (1)/secbert-escort.pt'))"
      ],
      "metadata": {
        "colab": {
          "base_uri": "https://localhost:8080/"
        },
        "id": "lBH6E8jZ2uJn",
        "outputId": "3489125a-da34-42e9-9b8c-042c1c92dc03"
      },
      "execution_count": null,
      "outputs": [
        {
          "output_type": "execute_result",
          "data": {
            "text/plain": [
              "<All keys matched successfully>"
            ]
          },
          "metadata": {},
          "execution_count": 26
        }
      ]
    },
    {
      "cell_type": "code",
      "source": [
        "wisdomnet = WisdomNet(secBertClassifierMultilabel)\n",
        "wisdomnet.to(device)"
      ],
      "metadata": {
        "id": "-IkD47XpSWf3"
      },
      "execution_count": null,
      "outputs": []
    },
    {
      "cell_type": "code",
      "source": [
        "# data = pd.read_csv(data_folder + '/Data_Cleansing_a.csv')\n",
        "data_folder = os.getcwd() + '/data-multilabel/'\n",
        "misclassified_df = pd.read_csv(data_folder+'misclassified-data.csv')\n",
        "X_m_index = misclassified_df['X_train_index'].to_list()\n",
        "X_train = pd.read_csv(data_folder+'X_train.csv')\n",
        "\n",
        "X_m, y_m = X_train.iloc[X_m_index].to_numpy(), misclassified_df.iloc[:, -4:].to_numpy()\n",
        "X_m_train, X_m_test, y_m_train, y_m_test = train_test_split(X_m, y_m, test_size=0.2, random_state=2023)\n",
        "X_m_train, X_m_val, y_m_train, y_m_val = train_test_split(X_m_train, y_m_train, test_size=0.2, random_state=2023)"
      ],
      "metadata": {
        "id": "08dF4HOlga45"
      },
      "execution_count": null,
      "outputs": []
    },
    {
      "cell_type": "code",
      "source": [
        "print(X_m.shape, y_m.shape)"
      ],
      "metadata": {
        "colab": {
          "base_uri": "https://localhost:8080/"
        },
        "id": "L74Eytof2W29",
        "outputId": "9dad2e4b-671e-496e-e73d-abe0b579aab0"
      },
      "execution_count": null,
      "outputs": [
        {
          "output_type": "stream",
          "name": "stdout",
          "text": [
            "(3669, 1) (3669, 4)\n"
          ]
        }
      ]
    },
    {
      "cell_type": "code",
      "source": [
        "training_m_set = OpcodeData(X_m_train, y_m_train, secBertTokenizer, max_length)\n",
        "validating_m_set = OpcodeData(X_m_val, y_m_val, secBertTokenizer, max_length)\n",
        "testing_m_set = OpcodeData(X_m_test, y_m_test, secBertTokenizer, max_length)\n",
        "\n",
        "# Create generator for Dataset with BATCH_SIZE\n",
        "training_loader = DataLoader(training_m_set, batch_size=TRAIN_BATCH_SIZE)\n",
        "validating_loader = DataLoader(validating_m_set, batch_size=VALID_BATCH_SIZE)\n",
        "testing_loader = DataLoader(testing_m_set, batch_size=VALID_BATCH_SIZE)"
      ],
      "metadata": {
        "id": "El--0lC0iAI5"
      },
      "execution_count": null,
      "outputs": []
    },
    {
      "cell_type": "code",
      "source": [
        "criterion = nn.CrossEntropyLoss()\n",
        "optimizer = torch.optim.Adam(params = wisdomnet.parameters(), lr=LEARNING_RATE)\n",
        "\n",
        "train_m_accuracies, valid_m_accuracies, train_m_losses, valid_m_losses, _ =\n",
        "train(EPOCHS, wisdomnet, optimizer, criterion,\n",
        " (training_loader, validating_loader), score_type='multioutput', 'wisdomnet-escort.pt', is_find_miss=False)"
      ],
      "metadata": {
        "id": "9JgA-D2Uhz17"
      },
      "execution_count": null,
      "outputs": []
    },
    {
      "cell_type": "code",
      "source": [
        "\"\"\"\n",
        "Plot the result of training process\n",
        "\"\"\"\n",
        "plot_graph(EPOCHS, train_m_losses, valid_m_losses, \"Train/Validation Loss\")\n",
        "plot_graph(EPOCHS, train_m_accuracies, valid_m_accuracies, \"Train/Validation Accuracy\")"
      ],
      "metadata": {
        "id": "ewXmcDiiiZfz"
      },
      "execution_count": null,
      "outputs": []
    },
    {
      "cell_type": "code",
      "source": [
        "\"\"\"\n",
        "Evaluate model on test set and save the result\n",
        "\"\"\"\n",
        "labels = ['Timestamp dependence', 'Outdated Solidity version', 'Frozen Ether', 'Delegatecall Injection']\n",
        "total_labels, total_preds = predict(testing_loader, wisdomnet)\n",
        "df_labels = pd.DataFrame(total_labels, columns=labels)\n",
        "df_preds = pd.DataFrame(total_preds, columns=labels)\n",
        "\n",
        "df_labels.to_csv(data_folder+'labels-test-wisdomnet.csv')\n",
        "df_preds.to_csv(data_folder+'preds-wisdomnet.csv')"
      ],
      "metadata": {
        "colab": {
          "base_uri": "https://localhost:8080/"
        },
        "id": "84ibQfb_jcZ9",
        "outputId": "7eb7650f-30a6-43ea-898a-f05a80717281"
      },
      "execution_count": null,
      "outputs": [
        {
          "output_type": "stream",
          "name": "stdout",
          "text": [
            "\n",
            "Predicting...\n"
          ]
        }
      ]
    },
    {
      "cell_type": "code",
      "source": [
        "y_true = pd.read_csv(data_folder+'labels-test-wisdomnet.csv')\n",
        "y_pred = pd.read_csv(data_folder+'preds-wisdomnet.csv')\n",
        "\n",
        "y_true = y_true.iloc[:, -4:]\n",
        "y_pred = y_pred.iloc[:, -4:]\n",
        "labels = y_true.columns.to_list()"
      ],
      "metadata": {
        "id": "SmiUHamSoD2E"
      },
      "execution_count": null,
      "outputs": []
    },
    {
      "cell_type": "code",
      "source": [
        "classification_report(y_true,y_pred, target_names=labels)"
      ],
      "metadata": {
        "id": "VspuxkWT6bFu"
      },
      "execution_count": null,
      "outputs": []
    },
    {
      "cell_type": "markdown",
      "source": [
        "### Misclassified Analysis"
      ],
      "metadata": {
        "id": "vizEvDsHPnWv"
      }
    },
    {
      "cell_type": "code",
      "source": [
        "misclassified_df = pd.read_csv(os.getcwd()+'/misclassified-data.csv')"
      ],
      "metadata": {
        "id": "cAmoWMGZPtDH"
      },
      "execution_count": null,
      "outputs": []
    },
    {
      "cell_type": "code",
      "source": [
        "misclassified_df.head()"
      ],
      "metadata": {
        "colab": {
          "base_uri": "https://localhost:8080/",
          "height": 206
        },
        "id": "SbsbFD7nVwfM",
        "outputId": "211d1827-de4b-43b2-d0b6-2bea9ffdd2f2"
      },
      "execution_count": null,
      "outputs": [
        {
          "output_type": "execute_result",
          "data": {
            "text/plain": [
              "   X_train_index  Timestamp dependence  Outdated Solidity version  \\\n",
              "0              0                     0                          2   \n",
              "1              2                     0                          2   \n",
              "2              3                     0                          1   \n",
              "3              4                     2                          1   \n",
              "4              5                     0                          2   \n",
              "\n",
              "   Frozen Ether  Delegatecall Injection  \n",
              "0             1                       2  \n",
              "1             1                       1  \n",
              "2             2                       2  \n",
              "3             0                       2  \n",
              "4             1                       1  "
            ],
            "text/html": [
              "\n",
              "  <div id=\"df-c33ee94c-02ef-44f5-8f5f-fb45a62708dc\" class=\"colab-df-container\">\n",
              "    <div>\n",
              "<style scoped>\n",
              "    .dataframe tbody tr th:only-of-type {\n",
              "        vertical-align: middle;\n",
              "    }\n",
              "\n",
              "    .dataframe tbody tr th {\n",
              "        vertical-align: top;\n",
              "    }\n",
              "\n",
              "    .dataframe thead th {\n",
              "        text-align: right;\n",
              "    }\n",
              "</style>\n",
              "<table border=\"1\" class=\"dataframe\">\n",
              "  <thead>\n",
              "    <tr style=\"text-align: right;\">\n",
              "      <th></th>\n",
              "      <th>X_train_index</th>\n",
              "      <th>Timestamp dependence</th>\n",
              "      <th>Outdated Solidity version</th>\n",
              "      <th>Frozen Ether</th>\n",
              "      <th>Delegatecall Injection</th>\n",
              "    </tr>\n",
              "  </thead>\n",
              "  <tbody>\n",
              "    <tr>\n",
              "      <th>0</th>\n",
              "      <td>0</td>\n",
              "      <td>0</td>\n",
              "      <td>2</td>\n",
              "      <td>1</td>\n",
              "      <td>2</td>\n",
              "    </tr>\n",
              "    <tr>\n",
              "      <th>1</th>\n",
              "      <td>2</td>\n",
              "      <td>0</td>\n",
              "      <td>2</td>\n",
              "      <td>1</td>\n",
              "      <td>1</td>\n",
              "    </tr>\n",
              "    <tr>\n",
              "      <th>2</th>\n",
              "      <td>3</td>\n",
              "      <td>0</td>\n",
              "      <td>1</td>\n",
              "      <td>2</td>\n",
              "      <td>2</td>\n",
              "    </tr>\n",
              "    <tr>\n",
              "      <th>3</th>\n",
              "      <td>4</td>\n",
              "      <td>2</td>\n",
              "      <td>1</td>\n",
              "      <td>0</td>\n",
              "      <td>2</td>\n",
              "    </tr>\n",
              "    <tr>\n",
              "      <th>4</th>\n",
              "      <td>5</td>\n",
              "      <td>0</td>\n",
              "      <td>2</td>\n",
              "      <td>1</td>\n",
              "      <td>1</td>\n",
              "    </tr>\n",
              "  </tbody>\n",
              "</table>\n",
              "</div>\n",
              "    <div class=\"colab-df-buttons\">\n",
              "\n",
              "  <div class=\"colab-df-container\">\n",
              "    <button class=\"colab-df-convert\" onclick=\"convertToInteractive('df-c33ee94c-02ef-44f5-8f5f-fb45a62708dc')\"\n",
              "            title=\"Convert this dataframe to an interactive table.\"\n",
              "            style=\"display:none;\">\n",
              "\n",
              "  <svg xmlns=\"http://www.w3.org/2000/svg\" height=\"24px\" viewBox=\"0 -960 960 960\">\n",
              "    <path d=\"M120-120v-720h720v720H120Zm60-500h600v-160H180v160Zm220 220h160v-160H400v160Zm0 220h160v-160H400v160ZM180-400h160v-160H180v160Zm440 0h160v-160H620v160ZM180-180h160v-160H180v160Zm440 0h160v-160H620v160Z\"/>\n",
              "  </svg>\n",
              "    </button>\n",
              "\n",
              "  <style>\n",
              "    .colab-df-container {\n",
              "      display:flex;\n",
              "      gap: 12px;\n",
              "    }\n",
              "\n",
              "    .colab-df-convert {\n",
              "      background-color: #E8F0FE;\n",
              "      border: none;\n",
              "      border-radius: 50%;\n",
              "      cursor: pointer;\n",
              "      display: none;\n",
              "      fill: #1967D2;\n",
              "      height: 32px;\n",
              "      padding: 0 0 0 0;\n",
              "      width: 32px;\n",
              "    }\n",
              "\n",
              "    .colab-df-convert:hover {\n",
              "      background-color: #E2EBFA;\n",
              "      box-shadow: 0px 1px 2px rgba(60, 64, 67, 0.3), 0px 1px 3px 1px rgba(60, 64, 67, 0.15);\n",
              "      fill: #174EA6;\n",
              "    }\n",
              "\n",
              "    .colab-df-buttons div {\n",
              "      margin-bottom: 4px;\n",
              "    }\n",
              "\n",
              "    [theme=dark] .colab-df-convert {\n",
              "      background-color: #3B4455;\n",
              "      fill: #D2E3FC;\n",
              "    }\n",
              "\n",
              "    [theme=dark] .colab-df-convert:hover {\n",
              "      background-color: #434B5C;\n",
              "      box-shadow: 0px 1px 3px 1px rgba(0, 0, 0, 0.15);\n",
              "      filter: drop-shadow(0px 1px 2px rgba(0, 0, 0, 0.3));\n",
              "      fill: #FFFFFF;\n",
              "    }\n",
              "  </style>\n",
              "\n",
              "    <script>\n",
              "      const buttonEl =\n",
              "        document.querySelector('#df-c33ee94c-02ef-44f5-8f5f-fb45a62708dc button.colab-df-convert');\n",
              "      buttonEl.style.display =\n",
              "        google.colab.kernel.accessAllowed ? 'block' : 'none';\n",
              "\n",
              "      async function convertToInteractive(key) {\n",
              "        const element = document.querySelector('#df-c33ee94c-02ef-44f5-8f5f-fb45a62708dc');\n",
              "        const dataTable =\n",
              "          await google.colab.kernel.invokeFunction('convertToInteractive',\n",
              "                                                    [key], {});\n",
              "        if (!dataTable) return;\n",
              "\n",
              "        const docLinkHtml = 'Like what you see? Visit the ' +\n",
              "          '<a target=\"_blank\" href=https://colab.research.google.com/notebooks/data_table.ipynb>data table notebook</a>'\n",
              "          + ' to learn more about interactive tables.';\n",
              "        element.innerHTML = '';\n",
              "        dataTable['output_type'] = 'display_data';\n",
              "        await google.colab.output.renderOutput(dataTable, element);\n",
              "        const docLink = document.createElement('div');\n",
              "        docLink.innerHTML = docLinkHtml;\n",
              "        element.appendChild(docLink);\n",
              "      }\n",
              "    </script>\n",
              "  </div>\n",
              "\n",
              "\n",
              "<div id=\"df-2ed73ba7-563a-45a1-9c7c-45f6ab34ceda\">\n",
              "  <button class=\"colab-df-quickchart\" onclick=\"quickchart('df-2ed73ba7-563a-45a1-9c7c-45f6ab34ceda')\"\n",
              "            title=\"Suggest charts.\"\n",
              "            style=\"display:none;\">\n",
              "\n",
              "<svg xmlns=\"http://www.w3.org/2000/svg\" height=\"24px\"viewBox=\"0 0 24 24\"\n",
              "     width=\"24px\">\n",
              "    <g>\n",
              "        <path d=\"M19 3H5c-1.1 0-2 .9-2 2v14c0 1.1.9 2 2 2h14c1.1 0 2-.9 2-2V5c0-1.1-.9-2-2-2zM9 17H7v-7h2v7zm4 0h-2V7h2v10zm4 0h-2v-4h2v4z\"/>\n",
              "    </g>\n",
              "</svg>\n",
              "  </button>\n",
              "\n",
              "<style>\n",
              "  .colab-df-quickchart {\n",
              "      --bg-color: #E8F0FE;\n",
              "      --fill-color: #1967D2;\n",
              "      --hover-bg-color: #E2EBFA;\n",
              "      --hover-fill-color: #174EA6;\n",
              "      --disabled-fill-color: #AAA;\n",
              "      --disabled-bg-color: #DDD;\n",
              "  }\n",
              "\n",
              "  [theme=dark] .colab-df-quickchart {\n",
              "      --bg-color: #3B4455;\n",
              "      --fill-color: #D2E3FC;\n",
              "      --hover-bg-color: #434B5C;\n",
              "      --hover-fill-color: #FFFFFF;\n",
              "      --disabled-bg-color: #3B4455;\n",
              "      --disabled-fill-color: #666;\n",
              "  }\n",
              "\n",
              "  .colab-df-quickchart {\n",
              "    background-color: var(--bg-color);\n",
              "    border: none;\n",
              "    border-radius: 50%;\n",
              "    cursor: pointer;\n",
              "    display: none;\n",
              "    fill: var(--fill-color);\n",
              "    height: 32px;\n",
              "    padding: 0;\n",
              "    width: 32px;\n",
              "  }\n",
              "\n",
              "  .colab-df-quickchart:hover {\n",
              "    background-color: var(--hover-bg-color);\n",
              "    box-shadow: 0 1px 2px rgba(60, 64, 67, 0.3), 0 1px 3px 1px rgba(60, 64, 67, 0.15);\n",
              "    fill: var(--button-hover-fill-color);\n",
              "  }\n",
              "\n",
              "  .colab-df-quickchart-complete:disabled,\n",
              "  .colab-df-quickchart-complete:disabled:hover {\n",
              "    background-color: var(--disabled-bg-color);\n",
              "    fill: var(--disabled-fill-color);\n",
              "    box-shadow: none;\n",
              "  }\n",
              "\n",
              "  .colab-df-spinner {\n",
              "    border: 2px solid var(--fill-color);\n",
              "    border-color: transparent;\n",
              "    border-bottom-color: var(--fill-color);\n",
              "    animation:\n",
              "      spin 1s steps(1) infinite;\n",
              "  }\n",
              "\n",
              "  @keyframes spin {\n",
              "    0% {\n",
              "      border-color: transparent;\n",
              "      border-bottom-color: var(--fill-color);\n",
              "      border-left-color: var(--fill-color);\n",
              "    }\n",
              "    20% {\n",
              "      border-color: transparent;\n",
              "      border-left-color: var(--fill-color);\n",
              "      border-top-color: var(--fill-color);\n",
              "    }\n",
              "    30% {\n",
              "      border-color: transparent;\n",
              "      border-left-color: var(--fill-color);\n",
              "      border-top-color: var(--fill-color);\n",
              "      border-right-color: var(--fill-color);\n",
              "    }\n",
              "    40% {\n",
              "      border-color: transparent;\n",
              "      border-right-color: var(--fill-color);\n",
              "      border-top-color: var(--fill-color);\n",
              "    }\n",
              "    60% {\n",
              "      border-color: transparent;\n",
              "      border-right-color: var(--fill-color);\n",
              "    }\n",
              "    80% {\n",
              "      border-color: transparent;\n",
              "      border-right-color: var(--fill-color);\n",
              "      border-bottom-color: var(--fill-color);\n",
              "    }\n",
              "    90% {\n",
              "      border-color: transparent;\n",
              "      border-bottom-color: var(--fill-color);\n",
              "    }\n",
              "  }\n",
              "</style>\n",
              "\n",
              "  <script>\n",
              "    async function quickchart(key) {\n",
              "      const quickchartButtonEl =\n",
              "        document.querySelector('#' + key + ' button');\n",
              "      quickchartButtonEl.disabled = true;  // To prevent multiple clicks.\n",
              "      quickchartButtonEl.classList.add('colab-df-spinner');\n",
              "      try {\n",
              "        const charts = await google.colab.kernel.invokeFunction(\n",
              "            'suggestCharts', [key], {});\n",
              "      } catch (error) {\n",
              "        console.error('Error during call to suggestCharts:', error);\n",
              "      }\n",
              "      quickchartButtonEl.classList.remove('colab-df-spinner');\n",
              "      quickchartButtonEl.classList.add('colab-df-quickchart-complete');\n",
              "    }\n",
              "    (() => {\n",
              "      let quickchartButtonEl =\n",
              "        document.querySelector('#df-2ed73ba7-563a-45a1-9c7c-45f6ab34ceda button');\n",
              "      quickchartButtonEl.style.display =\n",
              "        google.colab.kernel.accessAllowed ? 'block' : 'none';\n",
              "    })();\n",
              "  </script>\n",
              "</div>\n",
              "    </div>\n",
              "  </div>\n"
            ]
          },
          "metadata": {},
          "execution_count": 12
        }
      ]
    },
    {
      "cell_type": "code",
      "source": [
        "len(misclassified_df)"
      ],
      "metadata": {
        "colab": {
          "base_uri": "https://localhost:8080/"
        },
        "id": "P6w9l2ktVQQ0",
        "outputId": "242040f9-55e1-4626-c2b0-783bdc369129"
      },
      "execution_count": null,
      "outputs": [
        {
          "output_type": "execute_result",
          "data": {
            "text/plain": [
              "3669"
            ]
          },
          "metadata": {},
          "execution_count": 7
        }
      ]
    },
    {
      "cell_type": "code",
      "source": [
        "type(misclassified_df['Timestamp dependence'].value_counts())"
      ],
      "metadata": {
        "colab": {
          "base_uri": "https://localhost:8080/"
        },
        "id": "d5NFBZOFWaRc",
        "outputId": "12a9c91c-65c7-43d5-ac29-41a6b3c87968"
      },
      "execution_count": null,
      "outputs": [
        {
          "output_type": "execute_result",
          "data": {
            "text/plain": [
              "pandas.core.series.Series"
            ]
          },
          "metadata": {},
          "execution_count": 13
        }
      ]
    },
    {
      "cell_type": "code",
      "source": [
        "values = []\n",
        "labels = ['Timestamp dependence', 'Outdated Solidity version', 'Frozen Ether', 'Delegatecall Injection']\n",
        "for i in labels:\n",
        "  value_counts = misclassified_df[i].value_counts().to_dict()\n",
        "  no_0 = value_counts[0]\n",
        "  no_1 = value_counts[1]\n",
        "  no_2 = value_counts[2]\n",
        "\n",
        "  values.append([no_0, no_1, no_2])\n",
        "\n",
        "values = np.array(values).T\n",
        "values.shape[0]\n",
        "\n",
        "# Plot\n",
        "fig, ax = plt.subplots(figsize=(16, 9))\n",
        "name = ['No', 'Yes', 'Reject']\n",
        "# Stacked bar chart\n",
        "for i in range(values.shape[0]):\n",
        "  ax.bar(labels, values[i], bottom = np.sum(values[:i], axis = 0), width = 0.5, label = str(name[i]))\n",
        "\n",
        "for bar in ax.patches:\n",
        "  ax.text(bar.get_x() + bar.get_width() / 2,\n",
        "          bar.get_height() / 2 + bar.get_y(),\n",
        "          round(bar.get_height()), ha = 'center',\n",
        "          color = 'black', weight = 'bold', size = 10)\n",
        "\n",
        "plt.legend()\n",
        "ax.set_ylabel('Total')\n",
        "ax.set_xlabel('Name of vulnerbilities')\n",
        "plt.show()"
      ],
      "metadata": {
        "colab": {
          "base_uri": "https://localhost:8080/",
          "height": 773
        },
        "id": "Jcq4n7fAWq9A",
        "outputId": "b13f9025-6045-4fa3-d71a-34fd707a3e9d"
      },
      "execution_count": null,
      "outputs": [
        {
          "output_type": "display_data",
          "data": {
            "text/plain": [
              "<Figure size 1600x900 with 1 Axes>"
            ],
            "image/png": "[encoded data removed]"
          },
          "metadata": {}
        }
      ]
    },
    {
      "cell_type": "code",
      "source": [
        "misclassified_df.to_numpy()"
      ],
      "metadata": {
        "colab": {
          "base_uri": "https://localhost:8080/"
        },
        "id": "8BbGgfwv0VY9",
        "outputId": "8ef9e552-4a2e-4912-9538-1f4a04a200c0"
      },
      "execution_count": null,
      "outputs": [
        {
          "output_type": "execute_result",
          "data": {
            "text/plain": [
              "array([[    0,     0,     2,     1,     0],\n",
              "       [    1,     0,     2,     1,     0],\n",
              "       [    2,     0,     2,     1,     0],\n",
              "       ...,\n",
              "       [11515,     0,     2,     1,     0],\n",
              "       [12142,     0,     2,     1,     0],\n",
              "       [12188,     0,     2,     1,     0]])"
            ]
          },
          "metadata": {},
          "execution_count": 9
        }
      ]
    },
    {
      "cell_type": "code",
      "source": [
        "num_reject_counts = misclassified_df.iloc[:, -4:].apply(lambda x: (x == 2).sum())\n",
        "min_reject = num_reject_counts.min()\n",
        "min_index = num_reject_counts.argmin()\n",
        "min_label = num_reject_counts.index[min_index]"
      ],
      "metadata": {
        "id": "M23pv1Lf0pp7"
      },
      "execution_count": null,
      "outputs": []
    },
    {
      "cell_type": "code",
      "source": [
        "columns = ['X_train_index', 'Timestamp dependence', 'Outdated Solidity version', 'Frozen Ether', 'Delegatecall Injection']\n",
        "df = pd.DataFrame(columns=columns)\n",
        "\n",
        "for label in labels:\n",
        "  df_filtered = misclassified_df.loc[misclassified_df[label] == 2, :]\n",
        "  df = pd.concat([df, df_filtered[:50]])"
      ],
      "metadata": {
        "id": "RveKCrLIKY70"
      },
      "execution_count": null,
      "outputs": []
    },
    {
      "cell_type": "code",
      "source": [
        "def get_mis_data(mis_data_df, frac=0.01):\n",
        "  df = pd.DataFrame(columns=mis_data_df.columns)\n",
        "  labels = mis_data_df.columns[-4:]\n",
        "  reject_label = 2\n",
        "\n",
        "  def find_min_reject(misclassified_df):\n",
        "    num_reject_counts = misclassified_df.apply(lambda x: (x == 2).sum())\n",
        "    min_num_reject = num_reject_counts.min()\n",
        "    min_index = num_reject_counts.argmin()\n",
        "    min_label = num_reject_counts.index[min_index]\n",
        "\n",
        "    return min_label, min_num_reject\n",
        "\n",
        "  min_label, min_num_reject = find_min_reject(misclassified_df.iloc[:, -4:])\n",
        "  threshold = int(min_num_reject * frac)\n",
        "\n",
        "  for label in labels:\n",
        "    df_filtered = misclassified_df.loc[misclassified_df[label] == reject_label, :]\n",
        "    df = pd.concat([df, df_filtered[:threshold]])\n",
        "\n",
        "  return df"
      ],
      "metadata": {
        "id": "wkNIGkwXyMYN"
      },
      "execution_count": null,
      "outputs": []
    },
    {
      "cell_type": "code",
      "source": [
        "df = get_mis_data(misclassified_df)"
      ],
      "metadata": {
        "id": "dmdPY0yozOsx"
      },
      "execution_count": null,
      "outputs": []
    },
    {
      "cell_type": "code",
      "source": [
        "for label in labels:\n",
        "  print(df[label].value_counts())"
      ],
      "metadata": {
        "colab": {
          "base_uri": "https://localhost:8080/"
        },
        "id": "TGgzAS0KK6Oa",
        "outputId": "af935b46-9700-414a-899d-42bab4de6550"
      },
      "execution_count": null,
      "outputs": [
        {
          "output_type": "stream",
          "name": "stdout",
          "text": [
            "2    10\n",
            "0    10\n",
            "Name: Timestamp dependence, dtype: int64\n",
            "1    14\n",
            "2     6\n",
            "Name: Outdated Solidity version, dtype: int64\n",
            "2    12\n",
            "1     6\n",
            "0     2\n",
            "Name: Frozen Ether, dtype: int64\n",
            "2    16\n",
            "1     2\n",
            "0     2\n",
            "Name: Delegatecall Injection, dtype: int64\n"
          ]
        }
      ]
    },
    {
      "cell_type": "code",
      "source": [
        "def fin_min_reject(misclassified_df):\n",
        "  num_reject_counts = misclassified_df.apply(lambda x: (x == 2).sum())\n",
        "  min_num_reject = num_reject_counts.min()\n",
        "  min_index = num_reject_counts.argmin()\n",
        "  min_label = num_reject_counts.index[min_index]\n",
        "\n",
        "  return min_label, min_num_reject\n",
        "\n",
        "def is_equal_num_reject(misclassified_df):\n",
        "  pass\n",
        "\n",
        "def undersample_multilabel(misclassified_df, labels, reject_label=2):\n",
        "  min_label, min_num_reject = find_min_reject(misclassified_df.iloc[:, -4:])\n",
        "  min_reject_df = misclassified_df.loc[misclassified_df[min_label] == reject_label, :]\n",
        "  balanced_reject_data = pd.DataFrame(min_reject_df)\n",
        "\n",
        "  labels.remove(min_label)\n",
        "  threshold = min_num_reject\n",
        "\n",
        "  while(is_equal_num_reject(balanced_reject_data) == False)\n",
        "    min_label, min_num_reject = find_min_reject(misclassified_df.iloc[:, -4:])\n",
        "\n",
        "\n"
      ],
      "metadata": {
        "id": "3sm3QlXJ8i5l"
      },
      "execution_count": null,
      "outputs": []
    },
    {
      "cell_type": "code",
      "source": [
        "min_reject_df = misclassified_df.loc[misclassified_df[min_label] == 2, :]\n",
        "balanced_reject_data = pd.DataFrame(min_reject_df)"
      ],
      "metadata": {
        "id": "ZvpWG6xt4WdC"
      },
      "execution_count": null,
      "outputs": []
    },
    {
      "cell_type": "code",
      "source": [
        "labels = ['Timestamp dependence', 'Outdated Solidity version', 'Frozen Ether', 'Delegatecall Injection']\n",
        "labels.remove(min_label)\n",
        "for i in labels:\n",
        "  num_reject = balanced_reject_data[i].value_counts().to_dict()[2]\n",
        "  print(num_reject)\n"
      ],
      "metadata": {
        "colab": {
          "base_uri": "https://localhost:8080/"
        },
        "id": "uBjHZHyy6EI1",
        "outputId": "d837838d-f1d3-47f3-e09d-01dbb1638841"
      },
      "execution_count": null,
      "outputs": [
        {
          "output_type": "stream",
          "name": "stdout",
          "text": [
            "71\n",
            "162\n",
            "46\n"
          ]
        }
      ]
    },
    {
      "cell_type": "code",
      "source": [
        "num_miss_1 = misclassified_df['Timestamp dependence'].value_counts()[2].to_list()\n",
        "num_miss_2 = misclassified_df['Outdated Solidity version'].value_counts()[2]\n",
        "num_miss_3 = misclassified_df['Frozen Ether'].value_counts()[2]\n",
        "num_miss_4 = misclassified_df['Delegatecall Injection'].value_counts()[2]\n",
        "\n",
        "labels = ['Timestamp dependence', 'Outdated Solidity version', 'Frozen Ether', 'Delegatecall Injection']\n",
        "df = pd.DataFrame({'Num_label':labels, 'Num_miss':[num_miss_1, num_miss_2, num_miss_3, num_miss_4]})\n",
        "\n",
        "ax = df.plot.bar(x='Num_label', y='Num_miss', rot=30)"
      ],
      "metadata": {
        "colab": {
          "base_uri": "https://localhost:8080/",
          "height": 536
        },
        "id": "rblNLpILP4v6",
        "outputId": "6bfeb6da-8fb4-44b4-9f9d-f2bb8e3cc174"
      },
      "execution_count": null,
      "outputs": [
        {
          "output_type": "display_data",
          "data": {
            "text/plain": [
              "<Figure size 640x480 with 1 Axes>"
            ],
            "image/png": "[encoded data removed]"
          },
          "metadata": {}
        }
      ]
    },
    {
      "cell_type": "code",
      "source": [
        "print(df['Num_miss'].sum())"
      ],
      "metadata": {
        "colab": {
          "base_uri": "https://localhost:8080/"
        },
        "id": "Xjl1JjG03LNQ",
        "outputId": "6a41bc60-6878-4841-b409-1373eed3bc3d"
      },
      "execution_count": null,
      "outputs": [
        {
          "output_type": "stream",
          "name": "stdout",
          "text": [
            "3887\n"
          ]
        }
      ]
    },
    {
      "cell_type": "markdown",
      "source": [
        "# Test Final Model"
      ],
      "metadata": {
        "id": "y15XndQ-Ol9J"
      }
    },
    {
      "cell_type": "code",
      "source": [
        "X_test = pd.read_csv(data_folder+'X_test.csv').to_numpy()\n",
        "y_test = pd.read_csv(data_folder+'y_test.csv').to_numpy()"
      ],
      "metadata": {
        "id": "pGrkS1Cu6SX-"
      },
      "execution_count": null,
      "outputs": []
    },
    {
      "cell_type": "code",
      "source": [
        "testing_set = OpcodeData(X_test, y_test, secBertTokenizer, max_length)\n",
        "testing_loader = DataLoader(testing_set, batch_size=VALID_BATCH_SIZE)"
      ],
      "metadata": {
        "id": "rXs4e9GIaDex"
      },
      "execution_count": null,
      "outputs": []
    },
    {
      "cell_type": "code",
      "source": [
        "os.listdir(os.getcwd()+'/Wisdomnet/secbert-escort.pt')"
      ],
      "metadata": {
        "colab": {
          "base_uri": "https://localhost:8080/"
        },
        "id": "vQX7ffOA7A0E",
        "outputId": "819d17f9-e168-4589-ffb9-c069488d1813"
      },
      "execution_count": null,
      "outputs": [
        {
          "output_type": "execute_result",
          "data": {
            "text/plain": [
              "['escort-secbert.gsheet',\n",
              " 'Untitled Folder',\n",
              " 'secbert-escort.pt',\n",
              " 'Ket qua moi',\n",
              " 'secbert-escort.ipynb',\n",
              " 'test-wisdomnet.ipynb',\n",
              " 'test_wisdomnet_outdated_label.ipynb']"
            ]
          },
          "metadata": {},
          "execution_count": 27
        }
      ]
    },
    {
      "cell_type": "markdown",
      "source": [
        "## Test SecBERT - ESCORT"
      ],
      "metadata": {
        "id": "STM4OGTl7unb"
      }
    },
    {
      "cell_type": "code",
      "source": [
        "# num_class = 4\n",
        "# secBertClassifierMultilabel = BaseModel(original_model=secBertModel, num_classes=num_class)\n",
        "secBertClassifierMultilabel.load_state_dict(torch.load(os.getcwd()+'/Wisdomnet/secbert-escort.pt'))\n",
        "secBertClassifierMultilabel.to(device)\n",
        "# wisdomnet = WisdomNet(secBertClassifierMultilabel)\n",
        "# wisdomnet.load_state_dict(torch.load(os.getcwd()+'/trained (1)/wisdomnet-escort.pt'))\n",
        "# wisdomnet.to(device)"
      ],
      "metadata": {
        "id": "pg8k5rMaZgRm",
        "colab": {
          "base_uri": "https://localhost:8080/"
        },
        "outputId": "726c68b1-de71-44f6-a105-0f4c8cdbfcd4"
      },
      "execution_count": null,
      "outputs": [
        {
          "output_type": "execute_result",
          "data": {
            "text/plain": [
              "BaseModel(\n",
              "  (original_model): BertModel(\n",
              "    (embeddings): BertEmbeddings(\n",
              "      (word_embeddings): Embedding(52000, 768, padding_idx=0)\n",
              "      (position_embeddings): Embedding(514, 768)\n",
              "      (token_type_embeddings): Embedding(1, 768)\n",
              "      (LayerNorm): LayerNorm((768,), eps=1e-12, elementwise_affine=True)\n",
              "      (dropout): Dropout(p=0.1, inplace=False)\n",
              "    )\n",
              "    (encoder): BertEncoder(\n",
              "      (layer): ModuleList(\n",
              "        (0-5): 6 x BertLayer(\n",
              "          (attention): BertAttention(\n",
              "            (self): BertSelfAttention(\n",
              "              (query): Linear(in_features=768, out_features=768, bias=True)\n",
              "              (key): Linear(in_features=768, out_features=768, bias=True)\n",
              "              (value): Linear(in_features=768, out_features=768, bias=True)\n",
              "              (dropout): Dropout(p=0.1, inplace=False)\n",
              "            )\n",
              "            (output): BertSelfOutput(\n",
              "              (dense): Linear(in_features=768, out_features=768, bias=True)\n",
              "              (LayerNorm): LayerNorm((768,), eps=1e-12, elementwise_affine=True)\n",
              "              (dropout): Dropout(p=0.1, inplace=False)\n",
              "            )\n",
              "          )\n",
              "          (intermediate): BertIntermediate(\n",
              "            (dense): Linear(in_features=768, out_features=3072, bias=True)\n",
              "            (intermediate_act_fn): GELUActivation()\n",
              "          )\n",
              "          (output): BertOutput(\n",
              "            (dense): Linear(in_features=3072, out_features=768, bias=True)\n",
              "            (LayerNorm): LayerNorm((768,), eps=1e-12, elementwise_affine=True)\n",
              "            (dropout): Dropout(p=0.1, inplace=False)\n",
              "          )\n",
              "        )\n",
              "      )\n",
              "    )\n",
              "    (pooler): BertPooler(\n",
              "      (dense): Linear(in_features=768, out_features=768, bias=True)\n",
              "      (activation): Tanh()\n",
              "    )\n",
              "  )\n",
              "  (branches): ModuleList(\n",
              "    (0-3): 4 x Branch(\n",
              "      (dense1): Linear(in_features=768, out_features=128, bias=True)\n",
              "      (dropout): Dropout(p=0.1, inplace=False)\n",
              "      (dense2): Linear(in_features=128, out_features=64, bias=True)\n",
              "      (dense3): Linear(in_features=64, out_features=2, bias=True)\n",
              "    )\n",
              "  )\n",
              "  (activation): Softmax(dim=1)\n",
              ")"
            ]
          },
          "metadata": {},
          "execution_count": 21
        }
      ]
    },
    {
      "cell_type": "code",
      "source": [
        "total_labels, total_preds = predict(testing_loader, secBertClassifierMultilabel)"
      ],
      "metadata": {
        "colab": {
          "base_uri": "https://localhost:8080/"
        },
        "id": "birK07QL7Qde",
        "outputId": "0d6d9e05-3975-49de-84d1-429cc753d38c"
      },
      "execution_count": null,
      "outputs": [
        {
          "output_type": "stream",
          "name": "stdout",
          "text": [
            "\n",
            "Predicting...\n"
          ]
        }
      ]
    },
    {
      "cell_type": "code",
      "source": [
        "multilabel_confusion_matrix(y_true=np.array(total_labels), y_pred=np.array(total_preds))"
      ],
      "metadata": {
        "colab": {
          "base_uri": "https://localhost:8080/"
        },
        "id": "CzuXFvq18BDW",
        "outputId": "1a9f0b08-a0d0-420c-efc0-a02c875aef4d"
      },
      "execution_count": null,
      "outputs": [
        {
          "output_type": "execute_result",
          "data": {
            "text/plain": [
              "array([[[23110,    32],\n",
              "        [   55, 10770]],\n",
              "\n",
              "       [[ 5678,  4450],\n",
              "        [ 1633, 22206]],\n",
              "\n",
              "       [[14351,     6],\n",
              "        [  115, 19495]],\n",
              "\n",
              "       [[26879,    30],\n",
              "        [  296,  6762]]])"
            ]
          },
          "metadata": {},
          "execution_count": 26
        }
      ]
    },
    {
      "cell_type": "code",
      "source": [
        "# my_classification_report(np.array(total_labels), np.array(total_preds), labels)"
      ],
      "metadata": {
        "id": "8-y87Hhl8JKu"
      },
      "execution_count": null,
      "outputs": []
    },
    {
      "cell_type": "code",
      "source": [
        "df_labels = pd.DataFrame(total_labels, columns=labels)\n",
        "df_preds = pd.DataFrame(total_preds, columns=labels)\n",
        "\n",
        "df_labels.to_csv(data_folder+'labels-test-final-model.csv')\n",
        "df_preds.to_csv(data_folder+'preds-final-model.csv')\n",
        "\n",
        "y_true = pd.read_csv(os.getcwd()+'/labels-test-final-model.csv').iloc[:, -4:]\n",
        "y_pred = pd.read_csv(os.getcwd()+'/preds-final-model.csv').iloc[:, -4:]\n",
        "labels=['Timestamp dependence', 'Outdated Solidity version', 'Frozen Ether', 'Delegatecall Injection']\n",
        "\n",
        "wisdomnet_cfm(y_true.to_numpy(), y_pred.to_numpy())\n",
        "my_classification_report(y_true.to_numpy(), y_pred.to_numpy(), labels)"
      ],
      "metadata": {
        "id": "sruLCKX6aVWV"
      },
      "execution_count": null,
      "outputs": []
    }
  ],
  "metadata": {
    "colab": {
      "provenance": [],
      "toc_visible": true,
      "gpuType": "T4"
    },
    "kernelspec": {
      "display_name": "Python 3",
      "name": "python3"
    },
    "language_info": {
      "name": "python"
    },
    "accelerator": "GPU",
    "widgets": {
      "application/vnd.jupyter.widget-state+json": {
        "76799e9f9b6e471197eb0e81c4bd2d02": {
          "model_module": "@jupyter-widgets/controls",
          "model_name": "HBoxModel",
          "model_module_version": "1.5.0",
          "state": {
            "_dom_classes": [],
            "_model_module": "@jupyter-widgets/controls",
            "_model_module_version": "1.5.0",
            "_model_name": "HBoxModel",
            "_view_count": null,
            "_view_module": "@jupyter-widgets/controls",
            "_view_module_version": "1.5.0",
            "_view_name": "HBoxView",
            "box_style": "",
            "children": [
              "IPY_MODEL_2206db6df4624db4b55d444733644143",
              "IPY_MODEL_e09733030c8646cab590b6b7af1a19f1",
              "IPY_MODEL_448b5be115324efeb95058c796870f83"
            ],
            "layout": "IPY_MODEL_3fd92b37c7a04badb6f5f069c09c1e20"
          }
        },
        "2206db6df4624db4b55d444733644143": {
          "model_module": "@jupyter-widgets/controls",
          "model_name": "HTMLModel",
          "model_module_version": "1.5.0",
          "state": {
            "_dom_classes": [],
            "_model_module": "@jupyter-widgets/controls",
            "_model_module_version": "1.5.0",
            "_model_name": "HTMLModel",
            "_view_count": null,
            "_view_module": "@jupyter-widgets/controls",
            "_view_module_version": "1.5.0",
            "_view_name": "HTMLView",
            "description": "",
            "description_tooltip": null,
            "layout": "IPY_MODEL_a7baeabd9bc144ccb6eb93fa2fb97370",
            "placeholder": "​",
            "style": "IPY_MODEL_cadb0a1291e546f78211a05a087bb813",
            "value": "Downloading (…)solve/main/vocab.txt: 100%"
          }
        },
        "e09733030c8646cab590b6b7af1a19f1": {
          "model_module": "@jupyter-widgets/controls",
          "model_name": "FloatProgressModel",
          "model_module_version": "1.5.0",
          "state": {
            "_dom_classes": [],
            "_model_module": "@jupyter-widgets/controls",
            "_model_module_version": "1.5.0",
            "_model_name": "FloatProgressModel",
            "_view_count": null,
            "_view_module": "@jupyter-widgets/controls",
            "_view_module_version": "1.5.0",
            "_view_name": "ProgressView",
            "bar_style": "success",
            "description": "",
            "description_tooltip": null,
            "layout": "IPY_MODEL_6c8ebcc4b9a4404a96e622596663fb83",
            "max": 378000,
            "min": 0,
            "orientation": "horizontal",
            "style": "IPY_MODEL_cdf2c55fd63c47c8a7b0c1aa907de48b",
            "value": 378000
          }
        },
        "448b5be115324efeb95058c796870f83": {
          "model_module": "@jupyter-widgets/controls",
          "model_name": "HTMLModel",
          "model_module_version": "1.5.0",
          "state": {
            "_dom_classes": [],
            "_model_module": "@jupyter-widgets/controls",
            "_model_module_version": "1.5.0",
            "_model_name": "HTMLModel",
            "_view_count": null,
            "_view_module": "@jupyter-widgets/controls",
            "_view_module_version": "1.5.0",
            "_view_name": "HTMLView",
            "description": "",
            "description_tooltip": null,
            "layout": "IPY_MODEL_1e50db2a600e424ba4227792eb06c471",
            "placeholder": "​",
            "style": "IPY_MODEL_dd6a06279cb946e2aa8525928b9bd1ed",
            "value": " 378k/378k [00:00&lt;00:00, 3.23MB/s]"
          }
        },
        "3fd92b37c7a04badb6f5f069c09c1e20": {
          "model_module": "@jupyter-widgets/base",
          "model_name": "LayoutModel",
          "model_module_version": "1.2.0",
          "state": {
            "_model_module": "@jupyter-widgets/base",
            "_model_module_version": "1.2.0",
            "_model_name": "LayoutModel",
            "_view_count": null,
            "_view_module": "@jupyter-widgets/base",
            "_view_module_version": "1.2.0",
            "_view_name": "LayoutView",
            "align_content": null,
            "align_items": null,
            "align_self": null,
            "border": null,
            "bottom": null,
            "display": null,
            "flex": null,
            "flex_flow": null,
            "grid_area": null,
            "grid_auto_columns": null,
            "grid_auto_flow": null,
            "grid_auto_rows": null,
            "grid_column": null,
            "grid_gap": null,
            "grid_row": null,
            "grid_template_areas": null,
            "grid_template_columns": null,
            "grid_template_rows": null,
            "height": null,
            "justify_content": null,
            "justify_items": null,
            "left": null,
            "margin": null,
            "max_height": null,
            "max_width": null,
            "min_height": null,
            "min_width": null,
            "object_fit": null,
            "object_position": null,
            "order": null,
            "overflow": null,
            "overflow_x": null,
            "overflow_y": null,
            "padding": null,
            "right": null,
            "top": null,
            "visibility": null,
            "width": null
          }
        },
        "a7baeabd9bc144ccb6eb93fa2fb97370": {
          "model_module": "@jupyter-widgets/base",
          "model_name": "LayoutModel",
          "model_module_version": "1.2.0",
          "state": {
            "_model_module": "@jupyter-widgets/base",
            "_model_module_version": "1.2.0",
            "_model_name": "LayoutModel",
            "_view_count": null,
            "_view_module": "@jupyter-widgets/base",
            "_view_module_version": "1.2.0",
            "_view_name": "LayoutView",
            "align_content": null,
            "align_items": null,
            "align_self": null,
            "border": null,
            "bottom": null,
            "display": null,
            "flex": null,
            "flex_flow": null,
            "grid_area": null,
            "grid_auto_columns": null,
            "grid_auto_flow": null,
            "grid_auto_rows": null,
            "grid_column": null,
            "grid_gap": null,
            "grid_row": null,
            "grid_template_areas": null,
            "grid_template_columns": null,
            "grid_template_rows": null,
            "height": null,
            "justify_content": null,
            "justify_items": null,
            "left": null,
            "margin": null,
            "max_height": null,
            "max_width": null,
            "min_height": null,
            "min_width": null,
            "object_fit": null,
            "object_position": null,
            "order": null,
            "overflow": null,
            "overflow_x": null,
            "overflow_y": null,
            "padding": null,
            "right": null,
            "top": null,
            "visibility": null,
            "width": null
          }
        },
        "cadb0a1291e546f78211a05a087bb813": {
          "model_module": "@jupyter-widgets/controls",
          "model_name": "DescriptionStyleModel",
          "model_module_version": "1.5.0",
          "state": {
            "_model_module": "@jupyter-widgets/controls",
            "_model_module_version": "1.5.0",
            "_model_name": "DescriptionStyleModel",
            "_view_count": null,
            "_view_module": "@jupyter-widgets/base",
            "_view_module_version": "1.2.0",
            "_view_name": "StyleView",
            "description_width": ""
          }
        },
        "6c8ebcc4b9a4404a96e622596663fb83": {
          "model_module": "@jupyter-widgets/base",
          "model_name": "LayoutModel",
          "model_module_version": "1.2.0",
          "state": {
            "_model_module": "@jupyter-widgets/base",
            "_model_module_version": "1.2.0",
            "_model_name": "LayoutModel",
            "_view_count": null,
            "_view_module": "@jupyter-widgets/base",
            "_view_module_version": "1.2.0",
            "_view_name": "LayoutView",
            "align_content": null,
            "align_items": null,
            "align_self": null,
            "border": null,
            "bottom": null,
            "display": null,
            "flex": null,
            "flex_flow": null,
            "grid_area": null,
            "grid_auto_columns": null,
            "grid_auto_flow": null,
            "grid_auto_rows": null,
            "grid_column": null,
            "grid_gap": null,
            "grid_row": null,
            "grid_template_areas": null,
            "grid_template_columns": null,
            "grid_template_rows": null,
            "height": null,
            "justify_content": null,
            "justify_items": null,
            "left": null,
            "margin": null,
            "max_height": null,
            "max_width": null,
            "min_height": null,
            "min_width": null,
            "object_fit": null,
            "object_position": null,
            "order": null,
            "overflow": null,
            "overflow_x": null,
            "overflow_y": null,
            "padding": null,
            "right": null,
            "top": null,
            "visibility": null,
            "width": null
          }
        },
        "cdf2c55fd63c47c8a7b0c1aa907de48b": {
          "model_module": "@jupyter-widgets/controls",
          "model_name": "ProgressStyleModel",
          "model_module_version": "1.5.0",
          "state": {
            "_model_module": "@jupyter-widgets/controls",
            "_model_module_version": "1.5.0",
            "_model_name": "ProgressStyleModel",
            "_view_count": null,
            "_view_module": "@jupyter-widgets/base",
            "_view_module_version": "1.2.0",
            "_view_name": "StyleView",
            "bar_color": null,
            "description_width": ""
          }
        },
        "1e50db2a600e424ba4227792eb06c471": {
          "model_module": "@jupyter-widgets/base",
          "model_name": "LayoutModel",
          "model_module_version": "1.2.0",
          "state": {
            "_model_module": "@jupyter-widgets/base",
            "_model_module_version": "1.2.0",
            "_model_name": "LayoutModel",
            "_view_count": null,
            "_view_module": "@jupyter-widgets/base",
            "_view_module_version": "1.2.0",
            "_view_name": "LayoutView",
            "align_content": null,
            "align_items": null,
            "align_self": null,
            "border": null,
            "bottom": null,
            "display": null,
            "flex": null,
            "flex_flow": null,
            "grid_area": null,
            "grid_auto_columns": null,
            "grid_auto_flow": null,
            "grid_auto_rows": null,
            "grid_column": null,
            "grid_gap": null,
            "grid_row": null,
            "grid_template_areas": null,
            "grid_template_columns": null,
            "grid_template_rows": null,
            "height": null,
            "justify_content": null,
            "justify_items": null,
            "left": null,
            "margin": null,
            "max_height": null,
            "max_width": null,
            "min_height": null,
            "min_width": null,
            "object_fit": null,
            "object_position": null,
            "order": null,
            "overflow": null,
            "overflow_x": null,
            "overflow_y": null,
            "padding": null,
            "right": null,
            "top": null,
            "visibility": null,
            "width": null
          }
        },
        "dd6a06279cb946e2aa8525928b9bd1ed": {
          "model_module": "@jupyter-widgets/controls",
          "model_name": "DescriptionStyleModel",
          "model_module_version": "1.5.0",
          "state": {
            "_model_module": "@jupyter-widgets/controls",
            "_model_module_version": "1.5.0",
            "_model_name": "DescriptionStyleModel",
            "_view_count": null,
            "_view_module": "@jupyter-widgets/base",
            "_view_module_version": "1.2.0",
            "_view_name": "StyleView",
            "description_width": ""
          }
        },
        "f6c4609e68024ca0802c90478f6b2c0e": {
          "model_module": "@jupyter-widgets/controls",
          "model_name": "HBoxModel",
          "model_module_version": "1.5.0",
          "state": {
            "_dom_classes": [],
            "_model_module": "@jupyter-widgets/controls",
            "_model_module_version": "1.5.0",
            "_model_name": "HBoxModel",
            "_view_count": null,
            "_view_module": "@jupyter-widgets/controls",
            "_view_module_version": "1.5.0",
            "_view_name": "HBoxView",
            "box_style": "",
            "children": [
              "IPY_MODEL_6842ce71bd27410f9f98a3db8368c107",
              "IPY_MODEL_94187ecb226747d685a4b8eb50d460aa",
              "IPY_MODEL_55a58bdbb71c41ad8258d2f35a3a9283"
            ],
            "layout": "IPY_MODEL_f44f3185a070407e996a11dcbd653b27"
          }
        },
        "6842ce71bd27410f9f98a3db8368c107": {
          "model_module": "@jupyter-widgets/controls",
          "model_name": "HTMLModel",
          "model_module_version": "1.5.0",
          "state": {
            "_dom_classes": [],
            "_model_module": "@jupyter-widgets/controls",
            "_model_module_version": "1.5.0",
            "_model_name": "HTMLModel",
            "_view_count": null,
            "_view_module": "@jupyter-widgets/controls",
            "_view_module_version": "1.5.0",
            "_view_name": "HTMLView",
            "description": "",
            "description_tooltip": null,
            "layout": "IPY_MODEL_b65ad612c0784ff898bd84999af29264",
            "placeholder": "​",
            "style": "IPY_MODEL_979458e428134a3ebcd09451177c576f",
            "value": "Downloading (…)lve/main/config.json: 100%"
          }
        },
        "94187ecb226747d685a4b8eb50d460aa": {
          "model_module": "@jupyter-widgets/controls",
          "model_name": "FloatProgressModel",
          "model_module_version": "1.5.0",
          "state": {
            "_dom_classes": [],
            "_model_module": "@jupyter-widgets/controls",
            "_model_module_version": "1.5.0",
            "_model_name": "FloatProgressModel",
            "_view_count": null,
            "_view_module": "@jupyter-widgets/controls",
            "_view_module_version": "1.5.0",
            "_view_name": "ProgressView",
            "bar_style": "success",
            "description": "",
            "description_tooltip": null,
            "layout": "IPY_MODEL_ecd2ebee310f4587aec52032a0d399a0",
            "max": 467,
            "min": 0,
            "orientation": "horizontal",
            "style": "IPY_MODEL_65fca934e89241bc97fe81349f05c1f9",
            "value": 467
          }
        },
        "55a58bdbb71c41ad8258d2f35a3a9283": {
          "model_module": "@jupyter-widgets/controls",
          "model_name": "HTMLModel",
          "model_module_version": "1.5.0",
          "state": {
            "_dom_classes": [],
            "_model_module": "@jupyter-widgets/controls",
            "_model_module_version": "1.5.0",
            "_model_name": "HTMLModel",
            "_view_count": null,
            "_view_module": "@jupyter-widgets/controls",
            "_view_module_version": "1.5.0",
            "_view_name": "HTMLView",
            "description": "",
            "description_tooltip": null,
            "layout": "IPY_MODEL_cdcab9fb0cea46699a34a88cd6a4851d",
            "placeholder": "​",
            "style": "IPY_MODEL_55affaf2402948d19a15983ff46b07e5",
            "value": " 467/467 [00:00&lt;00:00, 5.64kB/s]"
          }
        },
        "f44f3185a070407e996a11dcbd653b27": {
          "model_module": "@jupyter-widgets/base",
          "model_name": "LayoutModel",
          "model_module_version": "1.2.0",
          "state": {
            "_model_module": "@jupyter-widgets/base",
            "_model_module_version": "1.2.0",
            "_model_name": "LayoutModel",
            "_view_count": null,
            "_view_module": "@jupyter-widgets/base",
            "_view_module_version": "1.2.0",
            "_view_name": "LayoutView",
            "align_content": null,
            "align_items": null,
            "align_self": null,
            "border": null,
            "bottom": null,
            "display": null,
            "flex": null,
            "flex_flow": null,
            "grid_area": null,
            "grid_auto_columns": null,
            "grid_auto_flow": null,
            "grid_auto_rows": null,
            "grid_column": null,
            "grid_gap": null,
            "grid_row": null,
            "grid_template_areas": null,
            "grid_template_columns": null,
            "grid_template_rows": null,
            "height": null,
            "justify_content": null,
            "justify_items": null,
            "left": null,
            "margin": null,
            "max_height": null,
            "max_width": null,
            "min_height": null,
            "min_width": null,
            "object_fit": null,
            "object_position": null,
            "order": null,
            "overflow": null,
            "overflow_x": null,
            "overflow_y": null,
            "padding": null,
            "right": null,
            "top": null,
            "visibility": null,
            "width": null
          }
        },
        "b65ad612c0784ff898bd84999af29264": {
          "model_module": "@jupyter-widgets/base",
          "model_name": "LayoutModel",
          "model_module_version": "1.2.0",
          "state": {
            "_model_module": "@jupyter-widgets/base",
            "_model_module_version": "1.2.0",
            "_model_name": "LayoutModel",
            "_view_count": null,
            "_view_module": "@jupyter-widgets/base",
            "_view_module_version": "1.2.0",
            "_view_name": "LayoutView",
            "align_content": null,
            "align_items": null,
            "align_self": null,
            "border": null,
            "bottom": null,
            "display": null,
            "flex": null,
            "flex_flow": null,
            "grid_area": null,
            "grid_auto_columns": null,
            "grid_auto_flow": null,
            "grid_auto_rows": null,
            "grid_column": null,
            "grid_gap": null,
            "grid_row": null,
            "grid_template_areas": null,
            "grid_template_columns": null,
            "grid_template_rows": null,
            "height": null,
            "justify_content": null,
            "justify_items": null,
            "left": null,
            "margin": null,
            "max_height": null,
            "max_width": null,
            "min_height": null,
            "min_width": null,
            "object_fit": null,
            "object_position": null,
            "order": null,
            "overflow": null,
            "overflow_x": null,
            "overflow_y": null,
            "padding": null,
            "right": null,
            "top": null,
            "visibility": null,
            "width": null
          }
        },
        "979458e428134a3ebcd09451177c576f": {
          "model_module": "@jupyter-widgets/controls",
          "model_name": "DescriptionStyleModel",
          "model_module_version": "1.5.0",
          "state": {
            "_model_module": "@jupyter-widgets/controls",
            "_model_module_version": "1.5.0",
            "_model_name": "DescriptionStyleModel",
            "_view_count": null,
            "_view_module": "@jupyter-widgets/base",
            "_view_module_version": "1.2.0",
            "_view_name": "StyleView",
            "description_width": ""
          }
        },
        "ecd2ebee310f4587aec52032a0d399a0": {
          "model_module": "@jupyter-widgets/base",
          "model_name": "LayoutModel",
          "model_module_version": "1.2.0",
          "state": {
            "_model_module": "@jupyter-widgets/base",
            "_model_module_version": "1.2.0",
            "_model_name": "LayoutModel",
            "_view_count": null,
            "_view_module": "@jupyter-widgets/base",
            "_view_module_version": "1.2.0",
            "_view_name": "LayoutView",
            "align_content": null,
            "align_items": null,
            "align_self": null,
            "border": null,
            "bottom": null,
            "display": null,
            "flex": null,
            "flex_flow": null,
            "grid_area": null,
            "grid_auto_columns": null,
            "grid_auto_flow": null,
            "grid_auto_rows": null,
            "grid_column": null,
            "grid_gap": null,
            "grid_row": null,
            "grid_template_areas": null,
            "grid_template_columns": null,
            "grid_template_rows": null,
            "height": null,
            "justify_content": null,
            "justify_items": null,
            "left": null,
            "margin": null,
            "max_height": null,
            "max_width": null,
            "min_height": null,
            "min_width": null,
            "object_fit": null,
            "object_position": null,
            "order": null,
            "overflow": null,
            "overflow_x": null,
            "overflow_y": null,
            "padding": null,
            "right": null,
            "top": null,
            "visibility": null,
            "width": null
          }
        },
        "65fca934e89241bc97fe81349f05c1f9": {
          "model_module": "@jupyter-widgets/controls",
          "model_name": "ProgressStyleModel",
          "model_module_version": "1.5.0",
          "state": {
            "_model_module": "@jupyter-widgets/controls",
            "_model_module_version": "1.5.0",
            "_model_name": "ProgressStyleModel",
            "_view_count": null,
            "_view_module": "@jupyter-widgets/base",
            "_view_module_version": "1.2.0",
            "_view_name": "StyleView",
            "bar_color": null,
            "description_width": ""
          }
        },
        "cdcab9fb0cea46699a34a88cd6a4851d": {
          "model_module": "@jupyter-widgets/base",
          "model_name": "LayoutModel",
          "model_module_version": "1.2.0",
          "state": {
            "_model_module": "@jupyter-widgets/base",
            "_model_module_version": "1.2.0",
            "_model_name": "LayoutModel",
            "_view_count": null,
            "_view_module": "@jupyter-widgets/base",
            "_view_module_version": "1.2.0",
            "_view_name": "LayoutView",
            "align_content": null,
            "align_items": null,
            "align_self": null,
            "border": null,
            "bottom": null,
            "display": null,
            "flex": null,
            "flex_flow": null,
            "grid_area": null,
            "grid_auto_columns": null,
            "grid_auto_flow": null,
            "grid_auto_rows": null,
            "grid_column": null,
            "grid_gap": null,
            "grid_row": null,
            "grid_template_areas": null,
            "grid_template_columns": null,
            "grid_template_rows": null,
            "height": null,
            "justify_content": null,
            "justify_items": null,
            "left": null,
            "margin": null,
            "max_height": null,
            "max_width": null,
            "min_height": null,
            "min_width": null,
            "object_fit": null,
            "object_position": null,
            "order": null,
            "overflow": null,
            "overflow_x": null,
            "overflow_y": null,
            "padding": null,
            "right": null,
            "top": null,
            "visibility": null,
            "width": null
          }
        },
        "55affaf2402948d19a15983ff46b07e5": {
          "model_module": "@jupyter-widgets/controls",
          "model_name": "DescriptionStyleModel",
          "model_module_version": "1.5.0",
          "state": {
            "_model_module": "@jupyter-widgets/controls",
            "_model_module_version": "1.5.0",
            "_model_name": "DescriptionStyleModel",
            "_view_count": null,
            "_view_module": "@jupyter-widgets/base",
            "_view_module_version": "1.2.0",
            "_view_name": "StyleView",
            "description_width": ""
          }
        },
        "ef95341467dd4327832a603f89cb0dbc": {
          "model_module": "@jupyter-widgets/controls",
          "model_name": "HBoxModel",
          "model_module_version": "1.5.0",
          "state": {
            "_dom_classes": [],
            "_model_module": "@jupyter-widgets/controls",
            "_model_module_version": "1.5.0",
            "_model_name": "HBoxModel",
            "_view_count": null,
            "_view_module": "@jupyter-widgets/controls",
            "_view_module_version": "1.5.0",
            "_view_name": "HBoxView",
            "box_style": "",
            "children": [
              "IPY_MODEL_ebd2f8c1eeed4242b544f4ae64adfbcb",
              "IPY_MODEL_b22dfdd4cd7b410a9f841ec748355923",
              "IPY_MODEL_7db0a25bd6d84de7ac973d3c163fc7e0"
            ],
            "layout": "IPY_MODEL_f725b05769fa4cc0b7c2dec4eea2e426"
          }
        },
        "ebd2f8c1eeed4242b544f4ae64adfbcb": {
          "model_module": "@jupyter-widgets/controls",
          "model_name": "HTMLModel",
          "model_module_version": "1.5.0",
          "state": {
            "_dom_classes": [],
            "_model_module": "@jupyter-widgets/controls",
            "_model_module_version": "1.5.0",
            "_model_name": "HTMLModel",
            "_view_count": null,
            "_view_module": "@jupyter-widgets/controls",
            "_view_module_version": "1.5.0",
            "_view_name": "HTMLView",
            "description": "",
            "description_tooltip": null,
            "layout": "IPY_MODEL_2aa8ec2df89041b0b87db773bc5c749e",
            "placeholder": "​",
            "style": "IPY_MODEL_33e4e179ce5244cfa504fdda91ff9c1c",
            "value": "Downloading model.safetensors: 100%"
          }
        },
        "b22dfdd4cd7b410a9f841ec748355923": {
          "model_module": "@jupyter-widgets/controls",
          "model_name": "FloatProgressModel",
          "model_module_version": "1.5.0",
          "state": {
            "_dom_classes": [],
            "_model_module": "@jupyter-widgets/controls",
            "_model_module_version": "1.5.0",
            "_model_name": "FloatProgressModel",
            "_view_count": null,
            "_view_module": "@jupyter-widgets/controls",
            "_view_module_version": "1.5.0",
            "_view_name": "ProgressView",
            "bar_style": "success",
            "description": "",
            "description_tooltip": null,
            "layout": "IPY_MODEL_fabd95f2cde541868ca637b556855269",
            "max": 336396808,
            "min": 0,
            "orientation": "horizontal",
            "style": "IPY_MODEL_721644594a244925b9efd784466b4c7d",
            "value": 336396808
          }
        },
        "7db0a25bd6d84de7ac973d3c163fc7e0": {
          "model_module": "@jupyter-widgets/controls",
          "model_name": "HTMLModel",
          "model_module_version": "1.5.0",
          "state": {
            "_dom_classes": [],
            "_model_module": "@jupyter-widgets/controls",
            "_model_module_version": "1.5.0",
            "_model_name": "HTMLModel",
            "_view_count": null,
            "_view_module": "@jupyter-widgets/controls",
            "_view_module_version": "1.5.0",
            "_view_name": "HTMLView",
            "description": "",
            "description_tooltip": null,
            "layout": "IPY_MODEL_dda3c8a9878a459188c8d2a3e4a98430",
            "placeholder": "​",
            "style": "IPY_MODEL_535e11063c314b0a9745516c8fcbdf86",
            "value": " 336M/336M [00:04&lt;00:00, 95.7MB/s]"
          }
        },
        "f725b05769fa4cc0b7c2dec4eea2e426": {
          "model_module": "@jupyter-widgets/base",
          "model_name": "LayoutModel",
          "model_module_version": "1.2.0",
          "state": {
            "_model_module": "@jupyter-widgets/base",
            "_model_module_version": "1.2.0",
            "_model_name": "LayoutModel",
            "_view_count": null,
            "_view_module": "@jupyter-widgets/base",
            "_view_module_version": "1.2.0",
            "_view_name": "LayoutView",
            "align_content": null,
            "align_items": null,
            "align_self": null,
            "border": null,
            "bottom": null,
            "display": null,
            "flex": null,
            "flex_flow": null,
            "grid_area": null,
            "grid_auto_columns": null,
            "grid_auto_flow": null,
            "grid_auto_rows": null,
            "grid_column": null,
            "grid_gap": null,
            "grid_row": null,
            "grid_template_areas": null,
            "grid_template_columns": null,
            "grid_template_rows": null,
            "height": null,
            "justify_content": null,
            "justify_items": null,
            "left": null,
            "margin": null,
            "max_height": null,
            "max_width": null,
            "min_height": null,
            "min_width": null,
            "object_fit": null,
            "object_position": null,
            "order": null,
            "overflow": null,
            "overflow_x": null,
            "overflow_y": null,
            "padding": null,
            "right": null,
            "top": null,
            "visibility": null,
            "width": null
          }
        },
        "2aa8ec2df89041b0b87db773bc5c749e": {
          "model_module": "@jupyter-widgets/base",
          "model_name": "LayoutModel",
          "model_module_version": "1.2.0",
          "state": {
            "_model_module": "@jupyter-widgets/base",
            "_model_module_version": "1.2.0",
            "_model_name": "LayoutModel",
            "_view_count": null,
            "_view_module": "@jupyter-widgets/base",
            "_view_module_version": "1.2.0",
            "_view_name": "LayoutView",
            "align_content": null,
            "align_items": null,
            "align_self": null,
            "border": null,
            "bottom": null,
            "display": null,
            "flex": null,
            "flex_flow": null,
            "grid_area": null,
            "grid_auto_columns": null,
            "grid_auto_flow": null,
            "grid_auto_rows": null,
            "grid_column": null,
            "grid_gap": null,
            "grid_row": null,
            "grid_template_areas": null,
            "grid_template_columns": null,
            "grid_template_rows": null,
            "height": null,
            "justify_content": null,
            "justify_items": null,
            "left": null,
            "margin": null,
            "max_height": null,
            "max_width": null,
            "min_height": null,
            "min_width": null,
            "object_fit": null,
            "object_position": null,
            "order": null,
            "overflow": null,
            "overflow_x": null,
            "overflow_y": null,
            "padding": null,
            "right": null,
            "top": null,
            "visibility": null,
            "width": null
          }
        },
        "33e4e179ce5244cfa504fdda91ff9c1c": {
          "model_module": "@jupyter-widgets/controls",
          "model_name": "DescriptionStyleModel",
          "model_module_version": "1.5.0",
          "state": {
            "_model_module": "@jupyter-widgets/controls",
            "_model_module_version": "1.5.0",
            "_model_name": "DescriptionStyleModel",
            "_view_count": null,
            "_view_module": "@jupyter-widgets/base",
            "_view_module_version": "1.2.0",
            "_view_name": "StyleView",
            "description_width": ""
          }
        },
        "fabd95f2cde541868ca637b556855269": {
          "model_module": "@jupyter-widgets/base",
          "model_name": "LayoutModel",
          "model_module_version": "1.2.0",
          "state": {
            "_model_module": "@jupyter-widgets/base",
            "_model_module_version": "1.2.0",
            "_model_name": "LayoutModel",
            "_view_count": null,
            "_view_module": "@jupyter-widgets/base",
            "_view_module_version": "1.2.0",
            "_view_name": "LayoutView",
            "align_content": null,
            "align_items": null,
            "align_self": null,
            "border": null,
            "bottom": null,
            "display": null,
            "flex": null,
            "flex_flow": null,
            "grid_area": null,
            "grid_auto_columns": null,
            "grid_auto_flow": null,
            "grid_auto_rows": null,
            "grid_column": null,
            "grid_gap": null,
            "grid_row": null,
            "grid_template_areas": null,
            "grid_template_columns": null,
            "grid_template_rows": null,
            "height": null,
            "justify_content": null,
            "justify_items": null,
            "left": null,
            "margin": null,
            "max_height": null,
            "max_width": null,
            "min_height": null,
            "min_width": null,
            "object_fit": null,
            "object_position": null,
            "order": null,
            "overflow": null,
            "overflow_x": null,
            "overflow_y": null,
            "padding": null,
            "right": null,
            "top": null,
            "visibility": null,
            "width": null
          }
        },
        "721644594a244925b9efd784466b4c7d": {
          "model_module": "@jupyter-widgets/controls",
          "model_name": "ProgressStyleModel",
          "model_module_version": "1.5.0",
          "state": {
            "_model_module": "@jupyter-widgets/controls",
            "_model_module_version": "1.5.0",
            "_model_name": "ProgressStyleModel",
            "_view_count": null,
            "_view_module": "@jupyter-widgets/base",
            "_view_module_version": "1.2.0",
            "_view_name": "StyleView",
            "bar_color": null,
            "description_width": ""
          }
        },
        "dda3c8a9878a459188c8d2a3e4a98430": {
          "model_module": "@jupyter-widgets/base",
          "model_name": "LayoutModel",
          "model_module_version": "1.2.0",
          "state": {
            "_model_module": "@jupyter-widgets/base",
            "_model_module_version": "1.2.0",
            "_model_name": "LayoutModel",
            "_view_count": null,
            "_view_module": "@jupyter-widgets/base",
            "_view_module_version": "1.2.0",
            "_view_name": "LayoutView",
            "align_content": null,
            "align_items": null,
            "align_self": null,
            "border": null,
            "bottom": null,
            "display": null,
            "flex": null,
            "flex_flow": null,
            "grid_area": null,
            "grid_auto_columns": null,
            "grid_auto_flow": null,
            "grid_auto_rows": null,
            "grid_column": null,
            "grid_gap": null,
            "grid_row": null,
            "grid_template_areas": null,
            "grid_template_columns": null,
            "grid_template_rows": null,
            "height": null,
            "justify_content": null,
            "justify_items": null,
            "left": null,
            "margin": null,
            "max_height": null,
            "max_width": null,
            "min_height": null,
            "min_width": null,
            "object_fit": null,
            "object_position": null,
            "order": null,
            "overflow": null,
            "overflow_x": null,
            "overflow_y": null,
            "padding": null,
            "right": null,
            "top": null,
            "visibility": null,
            "width": null
          }
        },
        "535e11063c314b0a9745516c8fcbdf86": {
          "model_module": "@jupyter-widgets/controls",
          "model_name": "DescriptionStyleModel",
          "model_module_version": "1.5.0",
          "state": {
            "_model_module": "@jupyter-widgets/controls",
            "_model_module_version": "1.5.0",
            "_model_name": "DescriptionStyleModel",
            "_view_count": null,
            "_view_module": "@jupyter-widgets/base",
            "_view_module_version": "1.2.0",
            "_view_name": "StyleView",
            "description_width": ""
          }
        }
      }
    }
  },
  "nbformat": 4,
  "nbformat_minor": 0
}